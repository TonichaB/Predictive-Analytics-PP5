{
 "cells": [
  {
   "cell_type": "markdown",
   "metadata": {
    "id": "0aStgWSO0E0E"
   },
   "source": [
    "# **Notebook 3: Feature Engineering**"
   ]
  },
  {
   "cell_type": "markdown",
   "metadata": {
    "id": "1eLEkw5O0ECa"
   },
   "source": [
    "## Objectives\n",
    "\n",
    "* **Transform Raw Features:**\n",
    "  * Engineer new features from the raw datasets based on domain knowledge.\n",
    "  * Refine existing features to enhance their predictive power for the model.\n",
    "* **Prepare Data for Modeling:**\n",
    "  * Handle feature scaling, encoding, and transformation for compatibility with machine learning algorithms.\n",
    "* **Document Key Decisions:**\n",
    "  * Provide justification for feature engineering steps to ensure reproducibility and transparency.\n",
    "\n",
    "## Inputs\n",
    "\n",
    "* **Processed Datasets:**\n",
    "  * `house_prices_cleaned.csv`: Cleaned version of the house prices dataset containing 1460 rows and 22 columns.\n",
    "* **Raw Datasets:**\n",
    "  * `inherited_houses.csv`: Raw version of the inherited houses dataset containing 4 rows and 23 columns, as no cleaning was required.\n",
    "* **Saved Location:**\n",
    "  * Processed datasets are located in `outputs/datasets/processed/cleaned/`.\n",
    "  * Raw dataset for inherited houses is located in `outputs/datasets/raw/`.\n",
    "\n",
    "## Outputs\n",
    "\n",
    "* **Feature-Engineered Datasets:**\n",
    "  * `house_prices_transformed.csv`: Dataset prepared for modeling with transformed and scaled features.\n",
    "  * `inherited_houses_transformed.csv`: Transformed version of the inherited houses dataset for predictions.\n",
    "* **Documentation:**\n",
    "  * Justification and summary of feature engineering steps. \n",
    "\n",
    "## Additional Comments\n",
    "\n",
    "* **Key Considerations:**\n",
    "  * Domain knowledge and statistical analyses guide feature engineering decisions.\n",
    "  * Transformations, scaling, and encoding techniques will be applied uniformly across datasets to ensure consistency.\n",
    "* **Methodology:**\n",
    "  * This notebook aligns with the Data Preparation and Transformation steps of the CRISP-SM methodology.\n",
    "* **Next Steps:**\n",
    "  * The outputs of this notebook will feed into the modeling notebook to build predictive models for house sale prices. \n"
   ]
  },
  {
   "cell_type": "markdown",
   "metadata": {
    "id": "9uWZXH9LwoQg"
   },
   "source": [
    "---"
   ]
  },
  {
   "cell_type": "markdown",
   "metadata": {
    "id": "cqP-UeN-z3i2"
   },
   "source": [
    "# Change working directory"
   ]
  },
  {
   "cell_type": "markdown",
   "metadata": {},
   "source": [
    "* We are assuming you will store the notebooks in a subfolder, therefore when running the notebook in the editor, you will need to change the working directory"
   ]
  },
  {
   "cell_type": "markdown",
   "metadata": {
    "id": "aOGIGS-uz3i2"
   },
   "source": [
    "We need to change the working directory from its current folder to its parent folder\n",
    "* We access the current directory with os.getcwd()"
   ]
  },
  {
   "cell_type": "code",
   "execution_count": 1,
   "metadata": {
    "id": "wZfF_j-Bz3i4",
    "outputId": "66943449-1436-4c3d-85c7-b85f9f78349b"
   },
   "outputs": [
    {
     "data": {
      "text/plain": [
       "'/workspace/Predictive-Analytics-PP5/jupyter_notebooks'"
      ]
     },
     "execution_count": 1,
     "metadata": {},
     "output_type": "execute_result"
    }
   ],
   "source": [
    "import os\n",
    "current_dir = os.getcwd()\n",
    "current_dir"
   ]
  },
  {
   "cell_type": "markdown",
   "metadata": {
    "id": "9MWW8E7lz3i7"
   },
   "source": [
    "We want to make the parent of the current directory the new current directory\n",
    "* os.path.dirname() gets the parent directory\n",
    "* os.chir() defines the new current directory"
   ]
  },
  {
   "cell_type": "code",
   "execution_count": 2,
   "metadata": {
    "id": "TwHsQRWjz3i9",
    "outputId": "86849db3-cd2f-4cc5-ebb8-2d0caafa1a2c"
   },
   "outputs": [
    {
     "name": "stdout",
     "output_type": "stream",
     "text": [
      "You set a new current directory\n"
     ]
    }
   ],
   "source": [
    "os.chdir(os.path.dirname(current_dir))\n",
    "print(\"You set a new current directory\")"
   ]
  },
  {
   "cell_type": "markdown",
   "metadata": {
    "id": "M_xPk_Ijz3i-"
   },
   "source": [
    "Confirm the new current directory"
   ]
  },
  {
   "cell_type": "code",
   "execution_count": 3,
   "metadata": {
    "id": "vz3S-_kjz3jA",
    "outputId": "00b79ae4-75d0-4a96-d193-ac9ef9847ea2"
   },
   "outputs": [
    {
     "data": {
      "text/plain": [
       "'/workspace/Predictive-Analytics-PP5'"
      ]
     },
     "execution_count": 3,
     "metadata": {},
     "output_type": "execute_result"
    }
   ],
   "source": [
    "current_dir = os.getcwd()\n",
    "current_dir"
   ]
  },
  {
   "cell_type": "markdown",
   "metadata": {
    "id": "ZY3l0-AxO93d"
   },
   "source": [
    "---"
   ]
  },
  {
   "cell_type": "markdown",
   "metadata": {},
   "source": [
    "## Load and Review Cleaned Data\n",
    "\n",
    "In this step, we will:\n",
    "1. Load the cleaned dataset for `house_prices_records.csv` from the processed directory.\n",
    "2. Load the raw dataset for `inherited_houses.csv` (since no cleaning was necessary).\n",
    "3. Review the structure and contents of both datasets to ensure readiness for feature engineering.\n",
    "\n",
    "### Expected Outcomes\n",
    "\n",
    "1. **House Prices Dataset (`house_prices_cleaned.csv`):**\n",
    "   - Contains no missing values or duplicates.\n",
    "   - Includes relevant columns with standardized formatting.\n",
    "   - Correct data types for all columns (e.g., `SalePrice` as numeric, categorical columns as `object`).\n",
    "   - The number of rows and columns matches the cleaned dataset structure.\n",
    "\n",
    "2. **Inherited Houses Dataset (`inherited_houses.csv`):**\n",
    "   - Matches the structure of the `house_prices_cleaned.csv` dataset minus the `SalePrice` column.\n",
    "   - Contains no missing values or inconsistencies.\n",
    "\n",
    "3. **Verification Outputs:**\n",
    "   - `info()` method confirms that data types and non-null counts are correct.\n",
    "   - `head()` provides a preview of the first few rows to confirm expected structure."
   ]
  },
  {
   "cell_type": "code",
   "execution_count": 4,
   "metadata": {},
   "outputs": [
    {
     "name": "stdout",
     "output_type": "stream",
     "text": [
      "House Prices Dataset:\n",
      "<class 'pandas.core.frame.DataFrame'>\n",
      "RangeIndex: 1460 entries, 0 to 1459\n",
      "Data columns (total 22 columns):\n",
      " #   Column        Non-Null Count  Dtype  \n",
      "---  ------        --------------  -----  \n",
      " 0   1stFlrSF      1460 non-null   int64  \n",
      " 1   2ndFlrSF      1460 non-null   int64  \n",
      " 2   BedroomAbvGr  1460 non-null   int64  \n",
      " 3   BsmtExposure  1460 non-null   object \n",
      " 4   BsmtFinSF1    1460 non-null   int64  \n",
      " 5   BsmtFinType1  1460 non-null   object \n",
      " 6   BsmtUnfSF     1460 non-null   int64  \n",
      " 7   GarageArea    1460 non-null   int64  \n",
      " 8   GarageFinish  1460 non-null   object \n",
      " 9   GarageYrBlt   1460 non-null   int64  \n",
      " 10  GrLivArea     1460 non-null   int64  \n",
      " 11  KitchenQual   1460 non-null   object \n",
      " 12  LotArea       1460 non-null   float64\n",
      " 13  LotFrontage   1460 non-null   float64\n",
      " 14  MasVnrArea    1460 non-null   float64\n",
      " 15  OpenPorchSF   1460 non-null   int64  \n",
      " 16  OverallCond   1460 non-null   int64  \n",
      " 17  OverallQual   1460 non-null   int64  \n",
      " 18  TotalBsmtSF   1460 non-null   int64  \n",
      " 19  YearBuilt     1460 non-null   int64  \n",
      " 20  YearRemodAdd  1460 non-null   int64  \n",
      " 21  SalePrice     1460 non-null   int64  \n",
      "dtypes: float64(3), int64(15), object(4)\n",
      "memory usage: 251.1+ KB\n",
      "None\n",
      "\n",
      "Inherited Houses Dataset:\n",
      "<class 'pandas.core.frame.DataFrame'>\n",
      "RangeIndex: 4 entries, 0 to 3\n",
      "Data columns (total 23 columns):\n",
      " #   Column         Non-Null Count  Dtype  \n",
      "---  ------         --------------  -----  \n",
      " 0   1stFlrSF       4 non-null      int64  \n",
      " 1   2ndFlrSF       4 non-null      int64  \n",
      " 2   BedroomAbvGr   4 non-null      int64  \n",
      " 3   BsmtExposure   4 non-null      object \n",
      " 4   BsmtFinSF1     4 non-null      float64\n",
      " 5   BsmtFinType1   4 non-null      object \n",
      " 6   BsmtUnfSF      4 non-null      float64\n",
      " 7   EnclosedPorch  4 non-null      int64  \n",
      " 8   GarageArea     4 non-null      float64\n",
      " 9   GarageFinish   4 non-null      object \n",
      " 10  GarageYrBlt    4 non-null      float64\n",
      " 11  GrLivArea      4 non-null      int64  \n",
      " 12  KitchenQual    4 non-null      object \n",
      " 13  LotArea        4 non-null      int64  \n",
      " 14  LotFrontage    4 non-null      float64\n",
      " 15  MasVnrArea     4 non-null      float64\n",
      " 16  OpenPorchSF    4 non-null      int64  \n",
      " 17  OverallCond    4 non-null      int64  \n",
      " 18  OverallQual    4 non-null      int64  \n",
      " 19  TotalBsmtSF    4 non-null      float64\n",
      " 20  WoodDeckSF     4 non-null      int64  \n",
      " 21  YearBuilt      4 non-null      int64  \n",
      " 22  YearRemodAdd   4 non-null      int64  \n",
      "dtypes: float64(7), int64(12), object(4)\n",
      "memory usage: 864.0+ bytes\n",
      "None\n",
      "\n",
      "Preview of House Prices Dataset:\n"
     ]
    },
    {
     "data": {
      "text/html": [
       "<div>\n",
       "<style scoped>\n",
       "    .dataframe tbody tr th:only-of-type {\n",
       "        vertical-align: middle;\n",
       "    }\n",
       "\n",
       "    .dataframe tbody tr th {\n",
       "        vertical-align: top;\n",
       "    }\n",
       "\n",
       "    .dataframe thead th {\n",
       "        text-align: right;\n",
       "    }\n",
       "</style>\n",
       "<table border=\"1\" class=\"dataframe\">\n",
       "  <thead>\n",
       "    <tr style=\"text-align: right;\">\n",
       "      <th></th>\n",
       "      <th>1stFlrSF</th>\n",
       "      <th>2ndFlrSF</th>\n",
       "      <th>BedroomAbvGr</th>\n",
       "      <th>BsmtExposure</th>\n",
       "      <th>BsmtFinSF1</th>\n",
       "      <th>BsmtFinType1</th>\n",
       "      <th>BsmtUnfSF</th>\n",
       "      <th>GarageArea</th>\n",
       "      <th>GarageFinish</th>\n",
       "      <th>GarageYrBlt</th>\n",
       "      <th>...</th>\n",
       "      <th>LotArea</th>\n",
       "      <th>LotFrontage</th>\n",
       "      <th>MasVnrArea</th>\n",
       "      <th>OpenPorchSF</th>\n",
       "      <th>OverallCond</th>\n",
       "      <th>OverallQual</th>\n",
       "      <th>TotalBsmtSF</th>\n",
       "      <th>YearBuilt</th>\n",
       "      <th>YearRemodAdd</th>\n",
       "      <th>SalePrice</th>\n",
       "    </tr>\n",
       "  </thead>\n",
       "  <tbody>\n",
       "    <tr>\n",
       "      <th>0</th>\n",
       "      <td>856</td>\n",
       "      <td>854</td>\n",
       "      <td>3</td>\n",
       "      <td>No</td>\n",
       "      <td>706</td>\n",
       "      <td>Glq</td>\n",
       "      <td>150</td>\n",
       "      <td>548</td>\n",
       "      <td>Rfn</td>\n",
       "      <td>2003</td>\n",
       "      <td>...</td>\n",
       "      <td>8450.0</td>\n",
       "      <td>65.0</td>\n",
       "      <td>196.0</td>\n",
       "      <td>61</td>\n",
       "      <td>5</td>\n",
       "      <td>7</td>\n",
       "      <td>856</td>\n",
       "      <td>2003</td>\n",
       "      <td>2003</td>\n",
       "      <td>208500</td>\n",
       "    </tr>\n",
       "    <tr>\n",
       "      <th>1</th>\n",
       "      <td>1262</td>\n",
       "      <td>0</td>\n",
       "      <td>3</td>\n",
       "      <td>Gd</td>\n",
       "      <td>978</td>\n",
       "      <td>Alq</td>\n",
       "      <td>284</td>\n",
       "      <td>460</td>\n",
       "      <td>Rfn</td>\n",
       "      <td>1976</td>\n",
       "      <td>...</td>\n",
       "      <td>9600.0</td>\n",
       "      <td>80.0</td>\n",
       "      <td>0.0</td>\n",
       "      <td>0</td>\n",
       "      <td>8</td>\n",
       "      <td>6</td>\n",
       "      <td>1262</td>\n",
       "      <td>1976</td>\n",
       "      <td>1976</td>\n",
       "      <td>181500</td>\n",
       "    </tr>\n",
       "    <tr>\n",
       "      <th>2</th>\n",
       "      <td>920</td>\n",
       "      <td>866</td>\n",
       "      <td>3</td>\n",
       "      <td>Mn</td>\n",
       "      <td>486</td>\n",
       "      <td>Glq</td>\n",
       "      <td>434</td>\n",
       "      <td>608</td>\n",
       "      <td>Rfn</td>\n",
       "      <td>2001</td>\n",
       "      <td>...</td>\n",
       "      <td>11250.0</td>\n",
       "      <td>68.0</td>\n",
       "      <td>162.0</td>\n",
       "      <td>42</td>\n",
       "      <td>5</td>\n",
       "      <td>7</td>\n",
       "      <td>920</td>\n",
       "      <td>2001</td>\n",
       "      <td>2002</td>\n",
       "      <td>223500</td>\n",
       "    </tr>\n",
       "    <tr>\n",
       "      <th>3</th>\n",
       "      <td>961</td>\n",
       "      <td>0</td>\n",
       "      <td>0</td>\n",
       "      <td>No</td>\n",
       "      <td>216</td>\n",
       "      <td>Alq</td>\n",
       "      <td>540</td>\n",
       "      <td>642</td>\n",
       "      <td>Unf</td>\n",
       "      <td>1998</td>\n",
       "      <td>...</td>\n",
       "      <td>9550.0</td>\n",
       "      <td>60.0</td>\n",
       "      <td>0.0</td>\n",
       "      <td>35</td>\n",
       "      <td>5</td>\n",
       "      <td>7</td>\n",
       "      <td>756</td>\n",
       "      <td>1915</td>\n",
       "      <td>1970</td>\n",
       "      <td>140000</td>\n",
       "    </tr>\n",
       "    <tr>\n",
       "      <th>4</th>\n",
       "      <td>1145</td>\n",
       "      <td>0</td>\n",
       "      <td>4</td>\n",
       "      <td>Av</td>\n",
       "      <td>655</td>\n",
       "      <td>Glq</td>\n",
       "      <td>490</td>\n",
       "      <td>836</td>\n",
       "      <td>Rfn</td>\n",
       "      <td>2000</td>\n",
       "      <td>...</td>\n",
       "      <td>14260.0</td>\n",
       "      <td>84.0</td>\n",
       "      <td>350.0</td>\n",
       "      <td>84</td>\n",
       "      <td>5</td>\n",
       "      <td>8</td>\n",
       "      <td>1145</td>\n",
       "      <td>2000</td>\n",
       "      <td>2000</td>\n",
       "      <td>250000</td>\n",
       "    </tr>\n",
       "  </tbody>\n",
       "</table>\n",
       "<p>5 rows × 22 columns</p>\n",
       "</div>"
      ],
      "text/plain": [
       "   1stFlrSF  2ndFlrSF  BedroomAbvGr BsmtExposure  BsmtFinSF1 BsmtFinType1  \\\n",
       "0       856       854             3           No         706          Glq   \n",
       "1      1262         0             3           Gd         978          Alq   \n",
       "2       920       866             3           Mn         486          Glq   \n",
       "3       961         0             0           No         216          Alq   \n",
       "4      1145         0             4           Av         655          Glq   \n",
       "\n",
       "   BsmtUnfSF  GarageArea GarageFinish  GarageYrBlt  ...  LotArea LotFrontage  \\\n",
       "0        150         548          Rfn         2003  ...   8450.0        65.0   \n",
       "1        284         460          Rfn         1976  ...   9600.0        80.0   \n",
       "2        434         608          Rfn         2001  ...  11250.0        68.0   \n",
       "3        540         642          Unf         1998  ...   9550.0        60.0   \n",
       "4        490         836          Rfn         2000  ...  14260.0        84.0   \n",
       "\n",
       "   MasVnrArea  OpenPorchSF  OverallCond  OverallQual  TotalBsmtSF  YearBuilt  \\\n",
       "0       196.0           61            5            7          856       2003   \n",
       "1         0.0            0            8            6         1262       1976   \n",
       "2       162.0           42            5            7          920       2001   \n",
       "3         0.0           35            5            7          756       1915   \n",
       "4       350.0           84            5            8         1145       2000   \n",
       "\n",
       "   YearRemodAdd  SalePrice  \n",
       "0          2003     208500  \n",
       "1          1976     181500  \n",
       "2          2002     223500  \n",
       "3          1970     140000  \n",
       "4          2000     250000  \n",
       "\n",
       "[5 rows x 22 columns]"
      ]
     },
     "metadata": {},
     "output_type": "display_data"
    },
    {
     "name": "stdout",
     "output_type": "stream",
     "text": [
      "\n",
      "Preview of Inherited Houses Dataset:\n"
     ]
    },
    {
     "data": {
      "text/html": [
       "<div>\n",
       "<style scoped>\n",
       "    .dataframe tbody tr th:only-of-type {\n",
       "        vertical-align: middle;\n",
       "    }\n",
       "\n",
       "    .dataframe tbody tr th {\n",
       "        vertical-align: top;\n",
       "    }\n",
       "\n",
       "    .dataframe thead th {\n",
       "        text-align: right;\n",
       "    }\n",
       "</style>\n",
       "<table border=\"1\" class=\"dataframe\">\n",
       "  <thead>\n",
       "    <tr style=\"text-align: right;\">\n",
       "      <th></th>\n",
       "      <th>1stFlrSF</th>\n",
       "      <th>2ndFlrSF</th>\n",
       "      <th>BedroomAbvGr</th>\n",
       "      <th>BsmtExposure</th>\n",
       "      <th>BsmtFinSF1</th>\n",
       "      <th>BsmtFinType1</th>\n",
       "      <th>BsmtUnfSF</th>\n",
       "      <th>EnclosedPorch</th>\n",
       "      <th>GarageArea</th>\n",
       "      <th>GarageFinish</th>\n",
       "      <th>...</th>\n",
       "      <th>LotArea</th>\n",
       "      <th>LotFrontage</th>\n",
       "      <th>MasVnrArea</th>\n",
       "      <th>OpenPorchSF</th>\n",
       "      <th>OverallCond</th>\n",
       "      <th>OverallQual</th>\n",
       "      <th>TotalBsmtSF</th>\n",
       "      <th>WoodDeckSF</th>\n",
       "      <th>YearBuilt</th>\n",
       "      <th>YearRemodAdd</th>\n",
       "    </tr>\n",
       "  </thead>\n",
       "  <tbody>\n",
       "    <tr>\n",
       "      <th>0</th>\n",
       "      <td>896</td>\n",
       "      <td>0</td>\n",
       "      <td>2</td>\n",
       "      <td>No</td>\n",
       "      <td>468.0</td>\n",
       "      <td>Rec</td>\n",
       "      <td>270.0</td>\n",
       "      <td>0</td>\n",
       "      <td>730.0</td>\n",
       "      <td>Unf</td>\n",
       "      <td>...</td>\n",
       "      <td>11622</td>\n",
       "      <td>80.0</td>\n",
       "      <td>0.0</td>\n",
       "      <td>0</td>\n",
       "      <td>6</td>\n",
       "      <td>5</td>\n",
       "      <td>882.0</td>\n",
       "      <td>140</td>\n",
       "      <td>1961</td>\n",
       "      <td>1961</td>\n",
       "    </tr>\n",
       "    <tr>\n",
       "      <th>1</th>\n",
       "      <td>1329</td>\n",
       "      <td>0</td>\n",
       "      <td>3</td>\n",
       "      <td>No</td>\n",
       "      <td>923.0</td>\n",
       "      <td>ALQ</td>\n",
       "      <td>406.0</td>\n",
       "      <td>0</td>\n",
       "      <td>312.0</td>\n",
       "      <td>Unf</td>\n",
       "      <td>...</td>\n",
       "      <td>14267</td>\n",
       "      <td>81.0</td>\n",
       "      <td>108.0</td>\n",
       "      <td>36</td>\n",
       "      <td>6</td>\n",
       "      <td>6</td>\n",
       "      <td>1329.0</td>\n",
       "      <td>393</td>\n",
       "      <td>1958</td>\n",
       "      <td>1958</td>\n",
       "    </tr>\n",
       "    <tr>\n",
       "      <th>2</th>\n",
       "      <td>928</td>\n",
       "      <td>701</td>\n",
       "      <td>3</td>\n",
       "      <td>No</td>\n",
       "      <td>791.0</td>\n",
       "      <td>GLQ</td>\n",
       "      <td>137.0</td>\n",
       "      <td>0</td>\n",
       "      <td>482.0</td>\n",
       "      <td>Fin</td>\n",
       "      <td>...</td>\n",
       "      <td>13830</td>\n",
       "      <td>74.0</td>\n",
       "      <td>0.0</td>\n",
       "      <td>34</td>\n",
       "      <td>5</td>\n",
       "      <td>5</td>\n",
       "      <td>928.0</td>\n",
       "      <td>212</td>\n",
       "      <td>1997</td>\n",
       "      <td>1998</td>\n",
       "    </tr>\n",
       "    <tr>\n",
       "      <th>3</th>\n",
       "      <td>926</td>\n",
       "      <td>678</td>\n",
       "      <td>3</td>\n",
       "      <td>No</td>\n",
       "      <td>602.0</td>\n",
       "      <td>GLQ</td>\n",
       "      <td>324.0</td>\n",
       "      <td>0</td>\n",
       "      <td>470.0</td>\n",
       "      <td>Fin</td>\n",
       "      <td>...</td>\n",
       "      <td>9978</td>\n",
       "      <td>78.0</td>\n",
       "      <td>20.0</td>\n",
       "      <td>36</td>\n",
       "      <td>6</td>\n",
       "      <td>6</td>\n",
       "      <td>926.0</td>\n",
       "      <td>360</td>\n",
       "      <td>1998</td>\n",
       "      <td>1998</td>\n",
       "    </tr>\n",
       "  </tbody>\n",
       "</table>\n",
       "<p>4 rows × 23 columns</p>\n",
       "</div>"
      ],
      "text/plain": [
       "   1stFlrSF  2ndFlrSF  BedroomAbvGr BsmtExposure  BsmtFinSF1 BsmtFinType1  \\\n",
       "0       896         0             2           No       468.0          Rec   \n",
       "1      1329         0             3           No       923.0          ALQ   \n",
       "2       928       701             3           No       791.0          GLQ   \n",
       "3       926       678             3           No       602.0          GLQ   \n",
       "\n",
       "   BsmtUnfSF  EnclosedPorch  GarageArea GarageFinish  ...  LotArea  \\\n",
       "0      270.0              0       730.0          Unf  ...    11622   \n",
       "1      406.0              0       312.0          Unf  ...    14267   \n",
       "2      137.0              0       482.0          Fin  ...    13830   \n",
       "3      324.0              0       470.0          Fin  ...     9978   \n",
       "\n",
       "   LotFrontage MasVnrArea  OpenPorchSF  OverallCond  OverallQual  TotalBsmtSF  \\\n",
       "0         80.0        0.0            0            6            5        882.0   \n",
       "1         81.0      108.0           36            6            6       1329.0   \n",
       "2         74.0        0.0           34            5            5        928.0   \n",
       "3         78.0       20.0           36            6            6        926.0   \n",
       "\n",
       "   WoodDeckSF  YearBuilt  YearRemodAdd  \n",
       "0         140       1961          1961  \n",
       "1         393       1958          1958  \n",
       "2         212       1997          1998  \n",
       "3         360       1998          1998  \n",
       "\n",
       "[4 rows x 23 columns]"
      ]
     },
     "metadata": {},
     "output_type": "display_data"
    }
   ],
   "source": [
    "import pandas as pd\n",
    "\n",
    "# Load the cleaned dataset for house prices\n",
    "house_prices_path = \"outputs/datasets/processed/cleaned/house_prices_cleaned.csv\"\n",
    "df_cleaned = pd.read_csv(house_prices_path)\n",
    "\n",
    "# Load the raw dataset for inherited houses\n",
    "inherited_houses_path = \"outputs/datasets/raw/inherited_houses.csv\"\n",
    "df_inherited = pd.read_csv(inherited_houses_path)\n",
    "\n",
    "# Display basic information about the datasets\n",
    "print(\"House Prices Dataset:\")\n",
    "print(df_cleaned.info())\n",
    "print(\"\\nInherited Houses Dataset:\")\n",
    "print(df_inherited.info())\n",
    "\n",
    "# Display first few rows of the datasets\n",
    "print(\"\\nPreview of House Prices Dataset:\")\n",
    "display(df_cleaned.head())\n",
    "print(\"\\nPreview of Inherited Houses Dataset:\")\n",
    "display(df_inherited.head())"
   ]
  },
  {
   "cell_type": "markdown",
   "metadata": {},
   "source": [
    "---"
   ]
  },
  {
   "cell_type": "markdown",
   "metadata": {},
   "source": [
    "## Feature Selection"
   ]
  },
  {
   "cell_type": "markdown",
   "metadata": {},
   "source": [
    "---"
   ]
  },
  {
   "cell_type": "markdown",
   "metadata": {},
   "source": [
    "## Feature Transformation"
   ]
  },
  {
   "cell_type": "markdown",
   "metadata": {},
   "source": [
    "---"
   ]
  },
  {
   "cell_type": "markdown",
   "metadata": {},
   "source": [
    "## Address Multicollinearity"
   ]
  },
  {
   "cell_type": "markdown",
   "metadata": {},
   "source": [
    "---"
   ]
  },
  {
   "cell_type": "markdown",
   "metadata": {},
   "source": [
    "## Create New Features"
   ]
  },
  {
   "cell_type": "markdown",
   "metadata": {},
   "source": [
    "---"
   ]
  },
  {
   "cell_type": "markdown",
   "metadata": {},
   "source": [
    "## Scale and Encode Features"
   ]
  },
  {
   "cell_type": "markdown",
   "metadata": {},
   "source": [
    "---"
   ]
  },
  {
   "cell_type": "markdown",
   "metadata": {},
   "source": [
    "## Save Final Dataset"
   ]
  },
  {
   "cell_type": "markdown",
   "metadata": {},
   "source": [
    "---"
   ]
  },
  {
   "cell_type": "markdown",
   "metadata": {},
   "source": [
    "## Conclusion & Next Steps"
   ]
  },
  {
   "cell_type": "markdown",
   "metadata": {},
   "source": [
    "---"
   ]
  }
 ],
 "metadata": {
  "accelerator": "GPU",
  "colab": {
   "name": "Data Practitioner Jupyter Notebook.ipynb",
   "provenance": [],
   "toc_visible": true
  },
  "kernelspec": {
   "display_name": "Python 3",
   "language": "python",
   "name": "python3"
  },
  "language_info": {
   "codemirror_mode": {
    "name": "ipython",
    "version": 3
   },
   "file_extension": ".py",
   "mimetype": "text/x-python",
   "name": "python",
   "nbconvert_exporter": "python",
   "pygments_lexer": "ipython3",
   "version": "3.8.18"
  },
  "orig_nbformat": 2
 },
 "nbformat": 4,
 "nbformat_minor": 2
}
