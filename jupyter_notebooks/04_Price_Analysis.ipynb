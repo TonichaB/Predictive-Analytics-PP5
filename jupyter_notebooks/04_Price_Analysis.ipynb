{
 "cells": [
  {
   "cell_type": "markdown",
   "metadata": {
    "id": "0aStgWSO0E0E"
   },
   "source": [
    "# **Notebook 4: Price Analysis**"
   ]
  },
  {
   "cell_type": "markdown",
   "metadata": {
    "id": "1eLEkw5O0ECa"
   },
   "source": [
    "## Objectives\n",
    "\n",
    "* **Explore Relationships Between Features and Sale Price**\n",
    "  * Conduct in-depth analysis of the relationships between house attributes and the target variable, `SalePrice`.\n",
    "  * Utilize visualizations and statistical methods to identify trendds and patterns that affect property values.\n",
    "* **Validate Business Hypotheses**\n",
    "  * Test key hypotheses about the drivers of house prices, including the influence of quality, size and location attributes.\n",
    "* **Generate Insights for Client Needs**\n",
    "  * Provide actionable insights to help the Client to understand the factors influencing the value of their inherited properties and similar houses in Ames, Iowa.\n",
    "  * Present findings in a clear and interpretable manner for client use.\n",
    "* **Prepare Visualizations for Dashboard**\n",
    "  * Develop interactive and static visualizations that effectively communicate findings and lign with the dashboard requirements.\n",
    "\n",
    "## Inputs\n",
    "\n",
    "* **Processed Datasets**\n",
    "  * `x_train_transformed.csv`: Feature-engineered and scaled training dataset for modeling and analysis.\n",
    "  * `x_test_transformed.csv`: Feature-engineered and scales testing dataset for validation.\n",
    "  * `y_train.csv`: Training dataset target variable (SalePrice).\n",
    "  * `y_test.csv`: Testing dataset target variable (SalePrice).\n",
    "* **Supplementary Data**\n",
    "  * Domain knowledge and project-specific hypotheses for guiding analysis.\n",
    "* **Stored Locations**\n",
    "  * Datasets are located in the `outputs/datasets/processed/transformed/` and `outputs/datasets/processed/split/` directories.\n",
    "\n",
    "## Outputs\n",
    "\n",
    "* **Insights and Findings**\n",
    "  * Detailed analysis of the relationships between key features and sale price.\n",
    "  * Validation of hypotheses with supporting evidence.\n",
    "* **Visualizations**\n",
    "  * Scatter plots, box plots, heatmaps, and other graphical representations to highlight trends and patterns.\n",
    "  * Summary visualizations prepared for dashboard integration.\n",
    "* **Documentation**\n",
    "  * Summary of analysis, key takeaways, and recommendations for downstream modeling and dashboard integration.\n",
    "\n",
    "## Additional Comments\n",
    "\n",
    "* **Context**\n",
    "  * This notebook focuses on data exploration and analysis, bridhing the gap between feature engineering and model building. It provides the foundation for deriving insights and recommendations.\n",
    "* **Alignment with CRISP-DM**\n",
    "  * This notebook aligns with the Data Understanding and Business Understanding steps, ensuring that exploratory findings are actionable and relevant to the client's needs.\n",
    "* **Next Steps**\n",
    "  * The outputs from this notebook will inform the Model Training and Evaluation notebook, where predictive models will be developed and optimized.\n"
   ]
  },
  {
   "cell_type": "markdown",
   "metadata": {
    "id": "9uWZXH9LwoQg"
   },
   "source": [
    "---"
   ]
  },
  {
   "cell_type": "markdown",
   "metadata": {
    "id": "cqP-UeN-z3i2"
   },
   "source": [
    "## Change working directory"
   ]
  },
  {
   "cell_type": "markdown",
   "metadata": {},
   "source": [
    "* We are assuming you will store the notebooks in a subfolder, therefore when running the notebook in the editor, you will need to change the working directory"
   ]
  },
  {
   "cell_type": "markdown",
   "metadata": {
    "id": "aOGIGS-uz3i2"
   },
   "source": [
    "We need to change the working directory from its current folder to its parent folder\n",
    "* We access the current directory with os.getcwd()"
   ]
  },
  {
   "cell_type": "code",
   "execution_count": 1,
   "metadata": {
    "id": "wZfF_j-Bz3i4",
    "outputId": "66943449-1436-4c3d-85c7-b85f9f78349b"
   },
   "outputs": [
    {
     "data": {
      "text/plain": [
       "'/workspace/Predictive-Analytics-PP5/jupyter_notebooks'"
      ]
     },
     "execution_count": 1,
     "metadata": {},
     "output_type": "execute_result"
    }
   ],
   "source": [
    "import os\n",
    "current_dir = os.getcwd()\n",
    "current_dir"
   ]
  },
  {
   "cell_type": "markdown",
   "metadata": {
    "id": "9MWW8E7lz3i7"
   },
   "source": [
    "We want to make the parent of the current directory the new current directory\n",
    "* os.path.dirname() gets the parent directory\n",
    "* os.chir() defines the new current directory"
   ]
  },
  {
   "cell_type": "code",
   "execution_count": 2,
   "metadata": {
    "id": "TwHsQRWjz3i9",
    "outputId": "86849db3-cd2f-4cc5-ebb8-2d0caafa1a2c"
   },
   "outputs": [
    {
     "name": "stdout",
     "output_type": "stream",
     "text": [
      "You set a new current directory\n"
     ]
    }
   ],
   "source": [
    "os.chdir(os.path.dirname(current_dir))\n",
    "print(\"You set a new current directory\")"
   ]
  },
  {
   "cell_type": "markdown",
   "metadata": {
    "id": "M_xPk_Ijz3i-"
   },
   "source": [
    "Confirm the new current directory"
   ]
  },
  {
   "cell_type": "code",
   "execution_count": 3,
   "metadata": {
    "id": "vz3S-_kjz3jA",
    "outputId": "00b79ae4-75d0-4a96-d193-ac9ef9847ea2"
   },
   "outputs": [
    {
     "data": {
      "text/plain": [
       "'/workspace/Predictive-Analytics-PP5'"
      ]
     },
     "execution_count": 3,
     "metadata": {},
     "output_type": "execute_result"
    }
   ],
   "source": [
    "current_dir = os.getcwd()\n",
    "current_dir"
   ]
  },
  {
   "cell_type": "markdown",
   "metadata": {},
   "source": [
    "---"
   ]
  },
  {
   "cell_type": "markdown",
   "metadata": {
    "id": "-mavJ8DibrcQ"
   },
   "source": [
    "## Load and Prepare Data"
   ]
  },
  {
   "cell_type": "markdown",
   "metadata": {},
   "source": [
    "**Overview**\n",
    "In this section, we will:\n",
    "1. Load the processed datasets required for price analysis.\n",
    "2. Confirm the structure and contents of the datasets to ensure readiness for analysis.\n",
    "3. Check for any discrepancies, such as missing values or incorrect data types, that may impact analysis."
   ]
  },
  {
   "cell_type": "code",
   "execution_count": 4,
   "metadata": {},
   "outputs": [
    {
     "name": "stdout",
     "output_type": "stream",
     "text": [
      "Training Features Dataset:\n",
      "<class 'pandas.core.frame.DataFrame'>\n",
      "RangeIndex: 1168 entries, 0 to 1167\n",
      "Data columns (total 7 columns):\n",
      " #   Column  Non-Null Count  Dtype  \n",
      "---  ------  --------------  -----  \n",
      " 0   0       1168 non-null   float64\n",
      " 1   1       1168 non-null   float64\n",
      " 2   2       1168 non-null   float64\n",
      " 3   3       1168 non-null   float64\n",
      " 4   4       1168 non-null   float64\n",
      " 5   5       1168 non-null   float64\n",
      " 6   6       1168 non-null   float64\n",
      "dtypes: float64(7)\n",
      "memory usage: 64.0 KB\n",
      "None\n",
      "\n",
      "Testing Features Dataset:\n",
      "<class 'pandas.core.frame.DataFrame'>\n",
      "RangeIndex: 292 entries, 0 to 291\n",
      "Data columns (total 7 columns):\n",
      " #   Column  Non-Null Count  Dtype  \n",
      "---  ------  --------------  -----  \n",
      " 0   0       292 non-null    float64\n",
      " 1   1       292 non-null    float64\n",
      " 2   2       292 non-null    float64\n",
      " 3   3       292 non-null    float64\n",
      " 4   4       292 non-null    float64\n",
      " 5   5       292 non-null    float64\n",
      " 6   6       292 non-null    float64\n",
      "dtypes: float64(7)\n",
      "memory usage: 16.1 KB\n",
      "None\n",
      "\n",
      "Training Target Dataset:\n",
      "<class 'pandas.core.frame.DataFrame'>\n",
      "RangeIndex: 1168 entries, 0 to 1167\n",
      "Data columns (total 1 columns):\n",
      " #   Column     Non-Null Count  Dtype\n",
      "---  ------     --------------  -----\n",
      " 0   SalePrice  1168 non-null   int64\n",
      "dtypes: int64(1)\n",
      "memory usage: 9.2 KB\n",
      "None\n",
      "\n",
      "Testing Target Dataset:\n",
      "<class 'pandas.core.frame.DataFrame'>\n",
      "RangeIndex: 292 entries, 0 to 291\n",
      "Data columns (total 1 columns):\n",
      " #   Column     Non-Null Count  Dtype\n",
      "---  ------     --------------  -----\n",
      " 0   SalePrice  292 non-null    int64\n",
      "dtypes: int64(1)\n",
      "memory usage: 2.4 KB\n",
      "None\n",
      "\n",
      "Preview of Training Features Dataset:\n"
     ]
    },
    {
     "data": {
      "text/html": [
       "<div>\n",
       "<style scoped>\n",
       "    .dataframe tbody tr th:only-of-type {\n",
       "        vertical-align: middle;\n",
       "    }\n",
       "\n",
       "    .dataframe tbody tr th {\n",
       "        vertical-align: top;\n",
       "    }\n",
       "\n",
       "    .dataframe thead th {\n",
       "        text-align: right;\n",
       "    }\n",
       "</style>\n",
       "<table border=\"1\" class=\"dataframe\">\n",
       "  <thead>\n",
       "    <tr style=\"text-align: right;\">\n",
       "      <th></th>\n",
       "      <th>0</th>\n",
       "      <th>1</th>\n",
       "      <th>2</th>\n",
       "      <th>3</th>\n",
       "      <th>4</th>\n",
       "      <th>5</th>\n",
       "      <th>6</th>\n",
       "    </tr>\n",
       "  </thead>\n",
       "  <tbody>\n",
       "    <tr>\n",
       "      <th>0</th>\n",
       "      <td>0.455469</td>\n",
       "      <td>-0.116096</td>\n",
       "      <td>0.887733</td>\n",
       "      <td>-0.437833</td>\n",
       "      <td>-0.292584</td>\n",
       "      <td>-0.161873</td>\n",
       "      <td>0.0</td>\n",
       "    </tr>\n",
       "    <tr>\n",
       "      <th>1</th>\n",
       "      <td>-0.718609</td>\n",
       "      <td>0.455054</td>\n",
       "      <td>-1.415946</td>\n",
       "      <td>0.858190</td>\n",
       "      <td>0.250597</td>\n",
       "      <td>-0.304082</td>\n",
       "      <td>1.0</td>\n",
       "    </tr>\n",
       "    <tr>\n",
       "      <th>2</th>\n",
       "      <td>1.988293</td>\n",
       "      <td>-1.409123</td>\n",
       "      <td>-1.415946</td>\n",
       "      <td>0.102176</td>\n",
       "      <td>-1.816242</td>\n",
       "      <td>-0.071879</td>\n",
       "      <td>0.0</td>\n",
       "    </tr>\n",
       "    <tr>\n",
       "      <th>3</th>\n",
       "      <td>1.107734</td>\n",
       "      <td>0.918129</td>\n",
       "      <td>0.640194</td>\n",
       "      <td>0.102176</td>\n",
       "      <td>0.609851</td>\n",
       "      <td>-0.477855</td>\n",
       "      <td>0.0</td>\n",
       "    </tr>\n",
       "    <tr>\n",
       "      <th>4</th>\n",
       "      <td>1.531707</td>\n",
       "      <td>1.593562</td>\n",
       "      <td>0.340697</td>\n",
       "      <td>-0.437833</td>\n",
       "      <td>0.474436</td>\n",
       "      <td>-1.225280</td>\n",
       "      <td>0.0</td>\n",
       "    </tr>\n",
       "  </tbody>\n",
       "</table>\n",
       "</div>"
      ],
      "text/plain": [
       "          0         1         2         3         4         5    6\n",
       "0  0.455469 -0.116096  0.887733 -0.437833 -0.292584 -0.161873  0.0\n",
       "1 -0.718609  0.455054 -1.415946  0.858190  0.250597 -0.304082  1.0\n",
       "2  1.988293 -1.409123 -1.415946  0.102176 -1.816242 -0.071879  0.0\n",
       "3  1.107734  0.918129  0.640194  0.102176  0.609851 -0.477855  0.0\n",
       "4  1.531707  1.593562  0.340697 -0.437833  0.474436 -1.225280  0.0"
      ]
     },
     "metadata": {},
     "output_type": "display_data"
    },
    {
     "name": "stdout",
     "output_type": "stream",
     "text": [
      "\n",
      "Preview of Testing Features Dataset:\n"
     ]
    },
    {
     "data": {
      "text/html": [
       "<div>\n",
       "<style scoped>\n",
       "    .dataframe tbody tr th:only-of-type {\n",
       "        vertical-align: middle;\n",
       "    }\n",
       "\n",
       "    .dataframe tbody tr th {\n",
       "        vertical-align: top;\n",
       "    }\n",
       "\n",
       "    .dataframe thead th {\n",
       "        text-align: right;\n",
       "    }\n",
       "</style>\n",
       "<table border=\"1\" class=\"dataframe\">\n",
       "  <thead>\n",
       "    <tr style=\"text-align: right;\">\n",
       "      <th></th>\n",
       "      <th>0</th>\n",
       "      <th>1</th>\n",
       "      <th>2</th>\n",
       "      <th>3</th>\n",
       "      <th>4</th>\n",
       "      <th>5</th>\n",
       "      <th>6</th>\n",
       "    </tr>\n",
       "  </thead>\n",
       "  <tbody>\n",
       "    <tr>\n",
       "      <th>0</th>\n",
       "      <td>0.259789</td>\n",
       "      <td>-0.621623</td>\n",
       "      <td>0.841719</td>\n",
       "      <td>1.506202</td>\n",
       "      <td>-0.922794</td>\n",
       "      <td>-0.158460</td>\n",
       "      <td>0.0</td>\n",
       "    </tr>\n",
       "    <tr>\n",
       "      <th>1</th>\n",
       "      <td>-0.751222</td>\n",
       "      <td>0.792606</td>\n",
       "      <td>0.720328</td>\n",
       "      <td>0.642186</td>\n",
       "      <td>1.808434</td>\n",
       "      <td>0.612540</td>\n",
       "      <td>1.0</td>\n",
       "    </tr>\n",
       "    <tr>\n",
       "      <th>2</th>\n",
       "      <td>1.433867</td>\n",
       "      <td>-0.830326</td>\n",
       "      <td>-1.415946</td>\n",
       "      <td>-0.437833</td>\n",
       "      <td>-1.038836</td>\n",
       "      <td>-0.029579</td>\n",
       "      <td>0.0</td>\n",
       "    </tr>\n",
       "    <tr>\n",
       "      <th>3</th>\n",
       "      <td>0.781602</td>\n",
       "      <td>1.552164</td>\n",
       "      <td>0.541291</td>\n",
       "      <td>0.858190</td>\n",
       "      <td>0.425488</td>\n",
       "      <td>-1.225280</td>\n",
       "      <td>1.0</td>\n",
       "    </tr>\n",
       "    <tr>\n",
       "      <th>4</th>\n",
       "      <td>-1.175195</td>\n",
       "      <td>-0.420838</td>\n",
       "      <td>0.856249</td>\n",
       "      <td>1.182196</td>\n",
       "      <td>0.343995</td>\n",
       "      <td>0.717202</td>\n",
       "      <td>0.0</td>\n",
       "    </tr>\n",
       "  </tbody>\n",
       "</table>\n",
       "</div>"
      ],
      "text/plain": [
       "          0         1         2         3         4         5    6\n",
       "0  0.259789 -0.621623  0.841719  1.506202 -0.922794 -0.158460  0.0\n",
       "1 -0.751222  0.792606  0.720328  0.642186  1.808434  0.612540  1.0\n",
       "2  1.433867 -0.830326 -1.415946 -0.437833 -1.038836 -0.029579  0.0\n",
       "3  0.781602  1.552164  0.541291  0.858190  0.425488 -1.225280  1.0\n",
       "4 -1.175195 -0.420838  0.856249  1.182196  0.343995  0.717202  0.0"
      ]
     },
     "metadata": {},
     "output_type": "display_data"
    },
    {
     "name": "stdout",
     "output_type": "stream",
     "text": [
      "\n",
      "Preview of Training Target Dataset:\n"
     ]
    },
    {
     "data": {
      "text/html": [
       "<div>\n",
       "<style scoped>\n",
       "    .dataframe tbody tr th:only-of-type {\n",
       "        vertical-align: middle;\n",
       "    }\n",
       "\n",
       "    .dataframe tbody tr th {\n",
       "        vertical-align: top;\n",
       "    }\n",
       "\n",
       "    .dataframe thead th {\n",
       "        text-align: right;\n",
       "    }\n",
       "</style>\n",
       "<table border=\"1\" class=\"dataframe\">\n",
       "  <thead>\n",
       "    <tr style=\"text-align: right;\">\n",
       "      <th></th>\n",
       "      <th>SalePrice</th>\n",
       "    </tr>\n",
       "  </thead>\n",
       "  <tbody>\n",
       "    <tr>\n",
       "      <th>0</th>\n",
       "      <td>145000</td>\n",
       "    </tr>\n",
       "    <tr>\n",
       "      <th>1</th>\n",
       "      <td>178000</td>\n",
       "    </tr>\n",
       "    <tr>\n",
       "      <th>2</th>\n",
       "      <td>85000</td>\n",
       "    </tr>\n",
       "    <tr>\n",
       "      <th>3</th>\n",
       "      <td>175000</td>\n",
       "    </tr>\n",
       "    <tr>\n",
       "      <th>4</th>\n",
       "      <td>127000</td>\n",
       "    </tr>\n",
       "  </tbody>\n",
       "</table>\n",
       "</div>"
      ],
      "text/plain": [
       "   SalePrice\n",
       "0     145000\n",
       "1     178000\n",
       "2      85000\n",
       "3     175000\n",
       "4     127000"
      ]
     },
     "metadata": {},
     "output_type": "display_data"
    },
    {
     "name": "stdout",
     "output_type": "stream",
     "text": [
      "\n",
      "Preview of Testing Target Dataset:\n"
     ]
    },
    {
     "data": {
      "text/html": [
       "<div>\n",
       "<style scoped>\n",
       "    .dataframe tbody tr th:only-of-type {\n",
       "        vertical-align: middle;\n",
       "    }\n",
       "\n",
       "    .dataframe tbody tr th {\n",
       "        vertical-align: top;\n",
       "    }\n",
       "\n",
       "    .dataframe thead th {\n",
       "        text-align: right;\n",
       "    }\n",
       "</style>\n",
       "<table border=\"1\" class=\"dataframe\">\n",
       "  <thead>\n",
       "    <tr style=\"text-align: right;\">\n",
       "      <th></th>\n",
       "      <th>SalePrice</th>\n",
       "    </tr>\n",
       "  </thead>\n",
       "  <tbody>\n",
       "    <tr>\n",
       "      <th>0</th>\n",
       "      <td>154500</td>\n",
       "    </tr>\n",
       "    <tr>\n",
       "      <th>1</th>\n",
       "      <td>325000</td>\n",
       "    </tr>\n",
       "    <tr>\n",
       "      <th>2</th>\n",
       "      <td>115000</td>\n",
       "    </tr>\n",
       "    <tr>\n",
       "      <th>3</th>\n",
       "      <td>159000</td>\n",
       "    </tr>\n",
       "    <tr>\n",
       "      <th>4</th>\n",
       "      <td>315500</td>\n",
       "    </tr>\n",
       "  </tbody>\n",
       "</table>\n",
       "</div>"
      ],
      "text/plain": [
       "   SalePrice\n",
       "0     154500\n",
       "1     325000\n",
       "2     115000\n",
       "3     159000\n",
       "4     315500"
      ]
     },
     "metadata": {},
     "output_type": "display_data"
    },
    {
     "name": "stdout",
     "output_type": "stream",
     "text": [
      "\n",
      "Checking for missing values in training features:\n",
      "0    0\n",
      "1    0\n",
      "2    0\n",
      "3    0\n",
      "4    0\n",
      "5    0\n",
      "6    0\n",
      "dtype: int64\n",
      "\n",
      "Checking for missing values in testing features:\n",
      "0    0\n",
      "1    0\n",
      "2    0\n",
      "3    0\n",
      "4    0\n",
      "5    0\n",
      "6    0\n",
      "dtype: int64\n",
      "\n",
      "Checking for missing values in training target:\n",
      "SalePrice    0\n",
      "dtype: int64\n",
      "\n",
      "Checking for missing values in testing target:\n",
      "SalePrice    0\n",
      "dtype: int64\n"
     ]
    }
   ],
   "source": [
    "import pandas as pd\n",
    "\n",
    "# Define file paths for datasets\n",
    "x_train_path = \"outputs/datasets/processed/transformed/x_train_transformed.csv\"\n",
    "x_test_path = \"outputs/datasets/processed/transformed/x_test_transformed.csv\"\n",
    "y_train_path = \"outputs/datasets/processed/split/y_train.csv\"\n",
    "y_test_path = \"outputs/datasets/processed/split/y_test.csv\"\n",
    "\n",
    "# Load Datasets\n",
    "x_train = pd.read_csv(x_train_path)\n",
    "x_test = pd.read_csv(x_test_path)\n",
    "y_train = pd.read_csv(y_train_path)\n",
    "y_test = pd.read_csv(y_test_path)\n",
    "\n",
    "# Display basic information about the datasets\n",
    "print(\"Training Features Dataset:\")\n",
    "print(x_train.info())\n",
    "print(\"\\nTesting Features Dataset:\")\n",
    "print(x_test.info())\n",
    "print(\"\\nTraining Target Dataset:\")\n",
    "print(y_train.info())\n",
    "print(\"\\nTesting Target Dataset:\")\n",
    "print(y_test.info())\n",
    "\n",
    "# Preview the first few rows of each dataset\n",
    "print(\"\\nPreview of Training Features Dataset:\")\n",
    "display(x_train.head())\n",
    "\n",
    "print(\"\\nPreview of Testing Features Dataset:\")\n",
    "display(x_test.head())\n",
    "\n",
    "print(\"\\nPreview of Training Target Dataset:\")\n",
    "display(y_train.head())\n",
    "\n",
    "print(\"\\nPreview of Testing Target Dataset:\")\n",
    "display(y_test.head())\n",
    "\n",
    "# Check for missing values\n",
    "print(\"\\nChecking for missing values in training features:\")\n",
    "print(x_train.isnull().sum())\n",
    "\n",
    "print(\"\\nChecking for missing values in testing features:\")\n",
    "print(x_test.isnull().sum())\n",
    "\n",
    "print(\"\\nChecking for missing values in training target:\")\n",
    "print(y_train.isnull().sum())\n",
    "\n",
    "print(\"\\nChecking for missing values in testing target:\")\n",
    "print(y_test.isnull().sum())"
   ]
  },
  {
   "cell_type": "markdown",
   "metadata": {},
   "source": [
    "**Expected Outputs:**\n",
    "\n",
    "1. **Dataset Structure:**\n",
    "   - Training Features: 1168 rows and 7 columns, all numeric and scaled (`float64`).\n",
    "   - Testing Features: 292 rows and 7 columns, all numeric and scaled (`float64`).\n",
    "   - Training Target: 1168 rows and 1 column (`int64`).\n",
    "   - Testing Target: 292 rows and 1 column (`int64`).\n",
    "2. **Preview of Data:**\n",
    "   - The first few rows of each dataset confirm the structure, scaling and content.\n",
    "   - Features are scaled, and target variables are numeric.\n",
    "3. **Missing Values:**\n",
    "   - No missing values in any dataset, as confirmed by the `0` counts across all columns.\n",
    "4. **Readiness for Analysis:**\n",
    "   - Datasets are complete, structures, and preprocessed for further exploration."
   ]
  },
  {
   "cell_type": "markdown",
   "metadata": {
    "id": "ZY3l0-AxO93d"
   },
   "source": [
    "---"
   ]
  },
  {
   "cell_type": "markdown",
   "metadata": {
    "id": "uFQo3ycuO-v6"
   },
   "source": [
    "## Exploratory Data Analysis (EDA)"
   ]
  },
  {
   "cell_type": "markdown",
   "metadata": {},
   "source": [
    "### Sale Price Distribution"
   ]
  },
  {
   "cell_type": "markdown",
   "metadata": {},
   "source": [
    "### Correlation Analysis"
   ]
  },
  {
   "cell_type": "markdown",
   "metadata": {},
   "source": [
    "### Pairwise Analysis"
   ]
  },
  {
   "cell_type": "markdown",
   "metadata": {},
   "source": [
    "### Multivariate Analysis"
   ]
  },
  {
   "cell_type": "markdown",
   "metadata": {},
   "source": [
    "### Feature Comparison Accross Quartiles"
   ]
  },
  {
   "cell_type": "markdown",
   "metadata": {},
   "source": [
    "### Outlier Analysis"
   ]
  },
  {
   "cell_type": "markdown",
   "metadata": {},
   "source": [
    "---"
   ]
  },
  {
   "cell_type": "markdown",
   "metadata": {},
   "source": [
    "## Business Insights"
   ]
  },
  {
   "cell_type": "markdown",
   "metadata": {},
   "source": [
    "### Key Drivers of Sale Price"
   ]
  },
  {
   "cell_type": "markdown",
   "metadata": {},
   "source": [
    "### Client-Specific Observations"
   ]
  },
  {
   "cell_type": "markdown",
   "metadata": {},
   "source": [
    "---"
   ]
  },
  {
   "cell_type": "markdown",
   "metadata": {},
   "source": [
    "## Save Outputs"
   ]
  },
  {
   "cell_type": "markdown",
   "metadata": {},
   "source": [
    "---"
   ]
  },
  {
   "cell_type": "markdown",
   "metadata": {},
   "source": [
    "## Conclusion & Next Steps"
   ]
  },
  {
   "cell_type": "markdown",
   "metadata": {},
   "source": [
    "### Conclusion"
   ]
  },
  {
   "cell_type": "markdown",
   "metadata": {},
   "source": [
    "### Next Steps"
   ]
  }
 ],
 "metadata": {
  "accelerator": "GPU",
  "colab": {
   "name": "Data Practitioner Jupyter Notebook.ipynb",
   "provenance": [],
   "toc_visible": true
  },
  "kernelspec": {
   "display_name": "Python 3",
   "language": "python",
   "name": "python3"
  },
  "language_info": {
   "codemirror_mode": {
    "name": "ipython",
    "version": 3
   },
   "file_extension": ".py",
   "mimetype": "text/x-python",
   "name": "python",
   "nbconvert_exporter": "python",
   "pygments_lexer": "ipython3",
   "version": "3.8.18"
  },
  "orig_nbformat": 2
 },
 "nbformat": 4,
 "nbformat_minor": 2
}
