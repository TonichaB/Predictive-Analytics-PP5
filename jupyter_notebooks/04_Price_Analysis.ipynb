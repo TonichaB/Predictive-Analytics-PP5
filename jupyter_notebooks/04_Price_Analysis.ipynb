{
 "cells": [
  {
   "cell_type": "markdown",
   "metadata": {
    "id": "0aStgWSO0E0E"
   },
   "source": [
    "# **Notebook 4: Price Analysis**"
   ]
  },
  {
   "cell_type": "markdown",
   "metadata": {
    "id": "1eLEkw5O0ECa"
   },
   "source": [
    "## Objectives\n",
    "\n",
    "* **Explore Relationships Between Features and Sale Price**\n",
    "  * Conduct in-depth analysis of the relationships between house attributes and the target variable, `SalePrice`.\n",
    "  * Utilize visualizations and statistical methods to identify trendds and patterns that affect property values.\n",
    "* **Validate Business Hypotheses**\n",
    "  * Test key hypotheses about the drivers of house prices, including the influence of quality, size and location attributes.\n",
    "* **Generate Insights for Client Needs**\n",
    "  * Provide actionable insights to help the Client to understand the factors influencing the value of their inherited properties and similar houses in Ames, Iowa.\n",
    "  * Present findings in a clear and interpretable manner for client use.\n",
    "* **Prepare Visualizations for Dashboard**\n",
    "  * Develop interactive and static visualizations that effectively communicate findings and lign with the dashboard requirements.\n",
    "\n",
    "## Inputs\n",
    "\n",
    "* **Processed Datasets**\n",
    "  * `x_train_transformed.csv`: Feature-engineered and scaled training dataset for modeling and analysis.\n",
    "  * `x_test_transformed.csv`: Feature-engineered and scales testing dataset for validation.\n",
    "  * `y_train.csv`: Training dataset target variable (SalePrice).\n",
    "  * `y_test.csv`: Testing dataset target variable (SalePrice).\n",
    "* **Supplementary Data**\n",
    "  * Domain knowledge and project-specific hypotheses for guiding analysis.\n",
    "* **Stored Locations**\n",
    "  * Datasets are located in the `outputs/datasets/processed/transformed/` and `outputs/datasets/processed/split/` directories.\n",
    "\n",
    "## Outputs\n",
    "\n",
    "* **Insights and Findings**\n",
    "  * Detailed analysis of the relationships between key features and sale price.\n",
    "  * Validation of hypotheses with supporting evidence.\n",
    "* **Visualizations**\n",
    "  * Scatter plots, box plots, heatmaps, and other graphical representations to highlight trends and patterns.\n",
    "  * Summary visualizations prepared for dashboard integration.\n",
    "* **Documentation**\n",
    "  * Summary of analysis, key takeaways, and recommendations for downstream modeling and dashboard integration.\n",
    "\n",
    "## Additional Comments\n",
    "\n",
    "* **Context**\n",
    "  * This notebook focuses on data exploration and analysis, bridhing the gap between feature engineering and model building. It provides the foundation for deriving insights and recommendations.\n",
    "* **Alignment with CRISP-DM**\n",
    "  * This notebook aligns with the Data Understanding and Business Understanding steps, ensuring that exploratory findings are actionable and relevant to the client's needs.\n",
    "* **Next Steps**\n",
    "  * The outputs from this notebook will inform the Model Training and Evaluation notebook, where predictive models will be developed and optimized.\n"
   ]
  },
  {
   "cell_type": "markdown",
   "metadata": {
    "id": "9uWZXH9LwoQg"
   },
   "source": [
    "---"
   ]
  },
  {
   "cell_type": "markdown",
   "metadata": {
    "id": "cqP-UeN-z3i2"
   },
   "source": [
    "## Change working directory"
   ]
  },
  {
   "cell_type": "markdown",
   "metadata": {},
   "source": [
    "* We are assuming you will store the notebooks in a subfolder, therefore when running the notebook in the editor, you will need to change the working directory"
   ]
  },
  {
   "cell_type": "markdown",
   "metadata": {
    "id": "aOGIGS-uz3i2"
   },
   "source": [
    "We need to change the working directory from its current folder to its parent folder\n",
    "* We access the current directory with os.getcwd()"
   ]
  },
  {
   "cell_type": "code",
   "execution_count": 1,
   "metadata": {
    "id": "wZfF_j-Bz3i4",
    "outputId": "66943449-1436-4c3d-85c7-b85f9f78349b"
   },
   "outputs": [
    {
     "data": {
      "text/plain": [
       "'/workspace/Predictive-Analytics-PP5/jupyter_notebooks'"
      ]
     },
     "execution_count": 1,
     "metadata": {},
     "output_type": "execute_result"
    }
   ],
   "source": [
    "import os\n",
    "current_dir = os.getcwd()\n",
    "current_dir"
   ]
  },
  {
   "cell_type": "markdown",
   "metadata": {
    "id": "9MWW8E7lz3i7"
   },
   "source": [
    "We want to make the parent of the current directory the new current directory\n",
    "* os.path.dirname() gets the parent directory\n",
    "* os.chir() defines the new current directory"
   ]
  },
  {
   "cell_type": "code",
   "execution_count": 2,
   "metadata": {
    "id": "TwHsQRWjz3i9",
    "outputId": "86849db3-cd2f-4cc5-ebb8-2d0caafa1a2c"
   },
   "outputs": [
    {
     "name": "stdout",
     "output_type": "stream",
     "text": [
      "You set a new current directory\n"
     ]
    }
   ],
   "source": [
    "os.chdir(os.path.dirname(current_dir))\n",
    "print(\"You set a new current directory\")"
   ]
  },
  {
   "cell_type": "markdown",
   "metadata": {
    "id": "M_xPk_Ijz3i-"
   },
   "source": [
    "Confirm the new current directory"
   ]
  },
  {
   "cell_type": "code",
   "execution_count": 3,
   "metadata": {
    "id": "vz3S-_kjz3jA",
    "outputId": "00b79ae4-75d0-4a96-d193-ac9ef9847ea2"
   },
   "outputs": [
    {
     "data": {
      "text/plain": [
       "'/workspace/Predictive-Analytics-PP5'"
      ]
     },
     "execution_count": 3,
     "metadata": {},
     "output_type": "execute_result"
    }
   ],
   "source": [
    "current_dir = os.getcwd()\n",
    "current_dir"
   ]
  },
  {
   "cell_type": "markdown",
   "metadata": {},
   "source": [
    "---"
   ]
  },
  {
   "cell_type": "markdown",
   "metadata": {
    "id": "-mavJ8DibrcQ"
   },
   "source": [
    "## Load and Prepare Data"
   ]
  },
  {
   "cell_type": "markdown",
   "metadata": {},
   "source": [
    "**Overview**\n",
    "In this section, we will:\n",
    "1. Load the processed datasets required for price analysis.\n",
    "2. Confirm the structure and contents of the datasets to ensure readiness for analysis.\n",
    "3. Handle any discrepancies, such as missing values, to ensure datasets are aligned and complete for further analysis.\n",
    "4. Verify that the datasets have the expected shapes and structures."
   ]
  },
  {
   "cell_type": "code",
   "execution_count": 6,
   "metadata": {},
   "outputs": [
    {
     "name": "stdout",
     "output_type": "stream",
     "text": [
      "Aligned x_test shape: (292, 21)\n",
      "ALigned y_test shape: (292, 1)\n",
      "\n",
      "Checking for missing values in testing features before handling:\n",
      "num__LotFrontage       0\n",
      "num__LotArea           0\n",
      "num__OpenPorchSF       0\n",
      "num__MasVnrArea        0\n",
      "num__BsmtFinSF1        0\n",
      "num__GrLivArea         0\n",
      "num__1stFlrSF          0\n",
      "num__YearBuilt         0\n",
      "num__YearRemodAdd      0\n",
      "num__BedroomAbvGr      0\n",
      "num__2ndFlrSF          0\n",
      "num__BsmtUnfSF         0\n",
      "num__GarageArea        0\n",
      "num__GarageYrBlt       0\n",
      "num__OverallCond       0\n",
      "num__OverallQual       0\n",
      "Age                  239\n",
      "LivingLotRatio       239\n",
      "FinishedBsmtRatio    239\n",
      "OverallScore         239\n",
      "HasPorch             239\n",
      "dtype: int64\n",
      "\n",
      "Checking for missing values in testing features after handling:\n",
      "num__LotFrontage     0\n",
      "num__LotArea         0\n",
      "num__OpenPorchSF     0\n",
      "num__MasVnrArea      0\n",
      "num__BsmtFinSF1      0\n",
      "num__GrLivArea       0\n",
      "num__1stFlrSF        0\n",
      "num__YearBuilt       0\n",
      "num__YearRemodAdd    0\n",
      "num__BedroomAbvGr    0\n",
      "num__2ndFlrSF        0\n",
      "num__BsmtUnfSF       0\n",
      "num__GarageArea      0\n",
      "num__GarageYrBlt     0\n",
      "num__OverallCond     0\n",
      "num__OverallQual     0\n",
      "Age                  0\n",
      "LivingLotRatio       0\n",
      "FinishedBsmtRatio    0\n",
      "OverallScore         0\n",
      "HasPorch             0\n",
      "dtype: int64\n",
      "Training Features Dataset:\n",
      "<class 'pandas.core.frame.DataFrame'>\n",
      "RangeIndex: 1168 entries, 0 to 1167\n",
      "Data columns (total 21 columns):\n",
      " #   Column                  Non-Null Count  Dtype  \n",
      "---  ------                  --------------  -----  \n",
      " 0   num__LotFrontage        1168 non-null   float64\n",
      " 1   num__LotArea            1168 non-null   float64\n",
      " 2   num__OpenPorchSF        1168 non-null   float64\n",
      " 3   num__MasVnrArea         1168 non-null   float64\n",
      " 4   num__BsmtFinSF1         1168 non-null   float64\n",
      " 5   num__GrLivArea          1168 non-null   float64\n",
      " 6   num__1stFlrSF           1168 non-null   float64\n",
      " 7   num__YearBuilt          1168 non-null   float64\n",
      " 8   num__YearRemodAdd       1168 non-null   float64\n",
      " 9   num__BedroomAbvGr       1168 non-null   float64\n",
      " 10  num__2ndFlrSF           1168 non-null   float64\n",
      " 11  num__BsmtUnfSF          1168 non-null   float64\n",
      " 12  num__GarageArea         1168 non-null   float64\n",
      " 13  num__GarageYrBlt        1168 non-null   float64\n",
      " 14  num__OverallCond        1168 non-null   float64\n",
      " 15  num__OverallQual        1168 non-null   float64\n",
      " 16  num__Age                1168 non-null   float64\n",
      " 17  num__LivingLotRatio     1168 non-null   float64\n",
      " 18  num__FinishedBsmtRatio  1168 non-null   float64\n",
      " 19  num__OverallScore       1168 non-null   float64\n",
      " 20  cat__HasPorch_1         1168 non-null   float64\n",
      "dtypes: float64(21)\n",
      "memory usage: 191.8 KB\n",
      "None\n",
      "\n",
      "Testing Features Dataset:\n",
      "<class 'pandas.core.frame.DataFrame'>\n",
      "RangeIndex: 292 entries, 0 to 291\n",
      "Data columns (total 21 columns):\n",
      " #   Column             Non-Null Count  Dtype  \n",
      "---  ------             --------------  -----  \n",
      " 0   num__LotFrontage   292 non-null    float64\n",
      " 1   num__LotArea       292 non-null    float64\n",
      " 2   num__OpenPorchSF   292 non-null    float64\n",
      " 3   num__MasVnrArea    292 non-null    float64\n",
      " 4   num__BsmtFinSF1    292 non-null    float64\n",
      " 5   num__GrLivArea     292 non-null    float64\n",
      " 6   num__1stFlrSF      292 non-null    float64\n",
      " 7   num__YearBuilt     292 non-null    float64\n",
      " 8   num__YearRemodAdd  292 non-null    float64\n",
      " 9   num__BedroomAbvGr  292 non-null    float64\n",
      " 10  num__2ndFlrSF      292 non-null    float64\n",
      " 11  num__BsmtUnfSF     292 non-null    float64\n",
      " 12  num__GarageArea    292 non-null    float64\n",
      " 13  num__GarageYrBlt   292 non-null    float64\n",
      " 14  num__OverallCond   292 non-null    float64\n",
      " 15  num__OverallQual   292 non-null    float64\n",
      " 16  Age                292 non-null    float64\n",
      " 17  LivingLotRatio     292 non-null    float64\n",
      " 18  FinishedBsmtRatio  292 non-null    float64\n",
      " 19  OverallScore       292 non-null    float64\n",
      " 20  HasPorch           292 non-null    float64\n",
      "dtypes: float64(21)\n",
      "memory usage: 48.0 KB\n",
      "None\n",
      "\n",
      "Training Target Dataset:\n",
      "<class 'pandas.core.frame.DataFrame'>\n",
      "RangeIndex: 1168 entries, 0 to 1167\n",
      "Data columns (total 1 columns):\n",
      " #   Column     Non-Null Count  Dtype\n",
      "---  ------     --------------  -----\n",
      " 0   SalePrice  1168 non-null   int64\n",
      "dtypes: int64(1)\n",
      "memory usage: 9.2 KB\n",
      "None\n",
      "\n",
      "Testing Target Dataset:\n",
      "<class 'pandas.core.frame.DataFrame'>\n",
      "RangeIndex: 292 entries, 0 to 291\n",
      "Data columns (total 1 columns):\n",
      " #   Column     Non-Null Count  Dtype\n",
      "---  ------     --------------  -----\n",
      " 0   SalePrice  292 non-null    int64\n",
      "dtypes: int64(1)\n",
      "memory usage: 2.4 KB\n",
      "None\n",
      "\n",
      "Preview of Training Features Dataset:\n"
     ]
    },
    {
     "data": {
      "text/html": [
       "<div>\n",
       "<style scoped>\n",
       "    .dataframe tbody tr th:only-of-type {\n",
       "        vertical-align: middle;\n",
       "    }\n",
       "\n",
       "    .dataframe tbody tr th {\n",
       "        vertical-align: top;\n",
       "    }\n",
       "\n",
       "    .dataframe thead th {\n",
       "        text-align: right;\n",
       "    }\n",
       "</style>\n",
       "<table border=\"1\" class=\"dataframe\">\n",
       "  <thead>\n",
       "    <tr style=\"text-align: right;\">\n",
       "      <th></th>\n",
       "      <th>num__LotFrontage</th>\n",
       "      <th>num__LotArea</th>\n",
       "      <th>num__OpenPorchSF</th>\n",
       "      <th>num__MasVnrArea</th>\n",
       "      <th>num__BsmtFinSF1</th>\n",
       "      <th>num__GrLivArea</th>\n",
       "      <th>num__1stFlrSF</th>\n",
       "      <th>num__YearBuilt</th>\n",
       "      <th>num__YearRemodAdd</th>\n",
       "      <th>num__BedroomAbvGr</th>\n",
       "      <th>...</th>\n",
       "      <th>num__BsmtUnfSF</th>\n",
       "      <th>num__GarageArea</th>\n",
       "      <th>num__GarageYrBlt</th>\n",
       "      <th>num__OverallCond</th>\n",
       "      <th>num__OverallQual</th>\n",
       "      <th>num__Age</th>\n",
       "      <th>num__LivingLotRatio</th>\n",
       "      <th>num__FinishedBsmtRatio</th>\n",
       "      <th>num__OverallScore</th>\n",
       "      <th>cat__HasPorch_1</th>\n",
       "    </tr>\n",
       "  </thead>\n",
       "  <tbody>\n",
       "    <tr>\n",
       "      <th>0</th>\n",
       "      <td>0.144140</td>\n",
       "      <td>-0.161873</td>\n",
       "      <td>-1.096169</td>\n",
       "      <td>-0.827815</td>\n",
       "      <td>0.865283</td>\n",
       "      <td>-0.292584</td>\n",
       "      <td>0.526873</td>\n",
       "      <td>0.455469</td>\n",
       "      <td>1.346063</td>\n",
       "      <td>-0.288836</td>\n",
       "      <td>...</td>\n",
       "      <td>-0.400282</td>\n",
       "      <td>-0.863837</td>\n",
       "      <td>0.192392</td>\n",
       "      <td>0.372217</td>\n",
       "      <td>-0.820445</td>\n",
       "      <td>-0.455469</td>\n",
       "      <td>-0.116096</td>\n",
       "      <td>0.887733</td>\n",
       "      <td>-0.437833</td>\n",
       "      <td>0.0</td>\n",
       "    </tr>\n",
       "    <tr>\n",
       "      <th>1</th>\n",
       "      <td>-0.392921</td>\n",
       "      <td>-0.304082</td>\n",
       "      <td>0.617419</td>\n",
       "      <td>-0.827815</td>\n",
       "      <td>-1.416429</td>\n",
       "      <td>0.250597</td>\n",
       "      <td>-1.040595</td>\n",
       "      <td>-0.718609</td>\n",
       "      <td>-0.439214</td>\n",
       "      <td>-0.288836</td>\n",
       "      <td>...</td>\n",
       "      <td>0.511920</td>\n",
       "      <td>-0.456264</td>\n",
       "      <td>0.272225</td>\n",
       "      <td>1.268609</td>\n",
       "      <td>-0.088934</td>\n",
       "      <td>0.718609</td>\n",
       "      <td>0.455054</td>\n",
       "      <td>-1.415946</td>\n",
       "      <td>0.858190</td>\n",
       "      <td>1.0</td>\n",
       "    </tr>\n",
       "    <tr>\n",
       "      <th>2</th>\n",
       "      <td>0.006402</td>\n",
       "      <td>-0.071879</td>\n",
       "      <td>-1.096169</td>\n",
       "      <td>-0.827815</td>\n",
       "      <td>-1.416429</td>\n",
       "      <td>-1.816242</td>\n",
       "      <td>-1.052445</td>\n",
       "      <td>1.988293</td>\n",
       "      <td>1.683818</td>\n",
       "      <td>0.645680</td>\n",
       "      <td>...</td>\n",
       "      <td>0.505196</td>\n",
       "      <td>-2.257169</td>\n",
       "      <td>-4.147410</td>\n",
       "      <td>1.268609</td>\n",
       "      <td>-0.820445</td>\n",
       "      <td>-1.988293</td>\n",
       "      <td>-1.409123</td>\n",
       "      <td>-1.415946</td>\n",
       "      <td>0.102176</td>\n",
       "      <td>0.0</td>\n",
       "    </tr>\n",
       "    <tr>\n",
       "      <th>3</th>\n",
       "      <td>-0.340186</td>\n",
       "      <td>-0.477855</td>\n",
       "      <td>-1.096169</td>\n",
       "      <td>1.276291</td>\n",
       "      <td>0.704206</td>\n",
       "      <td>0.609851</td>\n",
       "      <td>-0.394093</td>\n",
       "      <td>1.107734</td>\n",
       "      <td>1.683818</td>\n",
       "      <td>-0.288836</td>\n",
       "      <td>...</td>\n",
       "      <td>-0.915776</td>\n",
       "      <td>-1.119755</td>\n",
       "      <td>0.152476</td>\n",
       "      <td>1.268609</td>\n",
       "      <td>-0.820445</td>\n",
       "      <td>-1.107734</td>\n",
       "      <td>0.918129</td>\n",
       "      <td>0.640194</td>\n",
       "      <td>0.102176</td>\n",
       "      <td>0.0</td>\n",
       "    </tr>\n",
       "    <tr>\n",
       "      <th>4</th>\n",
       "      <td>-0.911425</td>\n",
       "      <td>-1.225280</td>\n",
       "      <td>-1.096169</td>\n",
       "      <td>-0.827815</td>\n",
       "      <td>0.384534</td>\n",
       "      <td>0.474436</td>\n",
       "      <td>-0.252776</td>\n",
       "      <td>1.531707</td>\n",
       "      <td>1.683818</td>\n",
       "      <td>-0.288836</td>\n",
       "      <td>...</td>\n",
       "      <td>0.532091</td>\n",
       "      <td>-0.797488</td>\n",
       "      <td>0.119212</td>\n",
       "      <td>0.372217</td>\n",
       "      <td>-0.820445</td>\n",
       "      <td>-1.531707</td>\n",
       "      <td>1.593562</td>\n",
       "      <td>0.340697</td>\n",
       "      <td>-0.437833</td>\n",
       "      <td>0.0</td>\n",
       "    </tr>\n",
       "  </tbody>\n",
       "</table>\n",
       "<p>5 rows × 21 columns</p>\n",
       "</div>"
      ],
      "text/plain": [
       "   num__LotFrontage  num__LotArea  num__OpenPorchSF  num__MasVnrArea  \\\n",
       "0          0.144140     -0.161873         -1.096169        -0.827815   \n",
       "1         -0.392921     -0.304082          0.617419        -0.827815   \n",
       "2          0.006402     -0.071879         -1.096169        -0.827815   \n",
       "3         -0.340186     -0.477855         -1.096169         1.276291   \n",
       "4         -0.911425     -1.225280         -1.096169        -0.827815   \n",
       "\n",
       "   num__BsmtFinSF1  num__GrLivArea  num__1stFlrSF  num__YearBuilt  \\\n",
       "0         0.865283       -0.292584       0.526873        0.455469   \n",
       "1        -1.416429        0.250597      -1.040595       -0.718609   \n",
       "2        -1.416429       -1.816242      -1.052445        1.988293   \n",
       "3         0.704206        0.609851      -0.394093        1.107734   \n",
       "4         0.384534        0.474436      -0.252776        1.531707   \n",
       "\n",
       "   num__YearRemodAdd  num__BedroomAbvGr  ...  num__BsmtUnfSF  num__GarageArea  \\\n",
       "0           1.346063          -0.288836  ...       -0.400282        -0.863837   \n",
       "1          -0.439214          -0.288836  ...        0.511920        -0.456264   \n",
       "2           1.683818           0.645680  ...        0.505196        -2.257169   \n",
       "3           1.683818          -0.288836  ...       -0.915776        -1.119755   \n",
       "4           1.683818          -0.288836  ...        0.532091        -0.797488   \n",
       "\n",
       "   num__GarageYrBlt  num__OverallCond  num__OverallQual  num__Age  \\\n",
       "0          0.192392          0.372217         -0.820445 -0.455469   \n",
       "1          0.272225          1.268609         -0.088934  0.718609   \n",
       "2         -4.147410          1.268609         -0.820445 -1.988293   \n",
       "3          0.152476          1.268609         -0.820445 -1.107734   \n",
       "4          0.119212          0.372217         -0.820445 -1.531707   \n",
       "\n",
       "   num__LivingLotRatio  num__FinishedBsmtRatio  num__OverallScore  \\\n",
       "0            -0.116096                0.887733          -0.437833   \n",
       "1             0.455054               -1.415946           0.858190   \n",
       "2            -1.409123               -1.415946           0.102176   \n",
       "3             0.918129                0.640194           0.102176   \n",
       "4             1.593562                0.340697          -0.437833   \n",
       "\n",
       "   cat__HasPorch_1  \n",
       "0              0.0  \n",
       "1              1.0  \n",
       "2              0.0  \n",
       "3              0.0  \n",
       "4              0.0  \n",
       "\n",
       "[5 rows x 21 columns]"
      ]
     },
     "metadata": {},
     "output_type": "display_data"
    },
    {
     "name": "stdout",
     "output_type": "stream",
     "text": [
      "\n",
      "Preview of Testing Features Dataset:\n"
     ]
    },
    {
     "data": {
      "text/html": [
       "<div>\n",
       "<style scoped>\n",
       "    .dataframe tbody tr th:only-of-type {\n",
       "        vertical-align: middle;\n",
       "    }\n",
       "\n",
       "    .dataframe tbody tr th {\n",
       "        vertical-align: top;\n",
       "    }\n",
       "\n",
       "    .dataframe thead th {\n",
       "        text-align: right;\n",
       "    }\n",
       "</style>\n",
       "<table border=\"1\" class=\"dataframe\">\n",
       "  <thead>\n",
       "    <tr style=\"text-align: right;\">\n",
       "      <th></th>\n",
       "      <th>num__LotFrontage</th>\n",
       "      <th>num__LotArea</th>\n",
       "      <th>num__OpenPorchSF</th>\n",
       "      <th>num__MasVnrArea</th>\n",
       "      <th>num__BsmtFinSF1</th>\n",
       "      <th>num__GrLivArea</th>\n",
       "      <th>num__1stFlrSF</th>\n",
       "      <th>num__YearBuilt</th>\n",
       "      <th>num__YearRemodAdd</th>\n",
       "      <th>num__BedroomAbvGr</th>\n",
       "      <th>...</th>\n",
       "      <th>num__BsmtUnfSF</th>\n",
       "      <th>num__GarageArea</th>\n",
       "      <th>num__GarageYrBlt</th>\n",
       "      <th>num__OverallCond</th>\n",
       "      <th>num__OverallQual</th>\n",
       "      <th>Age</th>\n",
       "      <th>LivingLotRatio</th>\n",
       "      <th>FinishedBsmtRatio</th>\n",
       "      <th>OverallScore</th>\n",
       "      <th>HasPorch</th>\n",
       "    </tr>\n",
       "  </thead>\n",
       "  <tbody>\n",
       "    <tr>\n",
       "      <th>0</th>\n",
       "      <td>0.144140</td>\n",
       "      <td>-0.158460</td>\n",
       "      <td>-1.096169</td>\n",
       "      <td>-0.827815</td>\n",
       "      <td>0.755219</td>\n",
       "      <td>-0.922794</td>\n",
       "      <td>-0.126358</td>\n",
       "      <td>0.227176</td>\n",
       "      <td>-0.873470</td>\n",
       "      <td>-2.157869</td>\n",
       "      <td>...</td>\n",
       "      <td>-0.391317</td>\n",
       "      <td>-1.006014</td>\n",
       "      <td>0.205698</td>\n",
       "      <td>2.165000</td>\n",
       "      <td>-0.088934</td>\n",
       "      <td>1986.358491</td>\n",
       "      <td>0.798551</td>\n",
       "      <td>0.515713</td>\n",
       "      <td>35.037736</td>\n",
       "      <td>0.566038</td>\n",
       "    </tr>\n",
       "    <tr>\n",
       "      <th>1</th>\n",
       "      <td>1.204764</td>\n",
       "      <td>0.612540</td>\n",
       "      <td>0.517257</td>\n",
       "      <td>1.413568</td>\n",
       "      <td>0.902910</td>\n",
       "      <td>1.808434</td>\n",
       "      <td>0.944129</td>\n",
       "      <td>-0.783836</td>\n",
       "      <td>-0.487465</td>\n",
       "      <td>-2.157869</td>\n",
       "      <td>...</td>\n",
       "      <td>-0.312872</td>\n",
       "      <td>1.117159</td>\n",
       "      <td>0.274443</td>\n",
       "      <td>-0.524174</td>\n",
       "      <td>1.374088</td>\n",
       "      <td>1986.358491</td>\n",
       "      <td>0.798551</td>\n",
       "      <td>0.515713</td>\n",
       "      <td>35.037736</td>\n",
       "      <td>0.566038</td>\n",
       "    </tr>\n",
       "    <tr>\n",
       "      <th>2</th>\n",
       "      <td>-0.556568</td>\n",
       "      <td>-0.029579</td>\n",
       "      <td>-1.096169</td>\n",
       "      <td>-0.827815</td>\n",
       "      <td>-1.416429</td>\n",
       "      <td>-1.038836</td>\n",
       "      <td>-0.246639</td>\n",
       "      <td>1.401254</td>\n",
       "      <td>1.683818</td>\n",
       "      <td>-1.223352</td>\n",
       "      <td>...</td>\n",
       "      <td>0.980347</td>\n",
       "      <td>-0.551048</td>\n",
       "      <td>0.125865</td>\n",
       "      <td>0.372217</td>\n",
       "      <td>-0.820445</td>\n",
       "      <td>1986.358491</td>\n",
       "      <td>0.798551</td>\n",
       "      <td>0.515713</td>\n",
       "      <td>35.037736</td>\n",
       "      <td>0.566038</td>\n",
       "    </tr>\n",
       "    <tr>\n",
       "      <th>3</th>\n",
       "      <td>-0.911425</td>\n",
       "      <td>-1.225280</td>\n",
       "      <td>0.389147</td>\n",
       "      <td>-0.827815</td>\n",
       "      <td>0.585846</td>\n",
       "      <td>0.425488</td>\n",
       "      <td>-0.321073</td>\n",
       "      <td>0.748988</td>\n",
       "      <td>1.683818</td>\n",
       "      <td>-2.157869</td>\n",
       "      <td>...</td>\n",
       "      <td>0.077111</td>\n",
       "      <td>-0.266695</td>\n",
       "      <td>0.176869</td>\n",
       "      <td>1.268609</td>\n",
       "      <td>-0.088934</td>\n",
       "      <td>1986.358491</td>\n",
       "      <td>0.798551</td>\n",
       "      <td>0.515713</td>\n",
       "      <td>35.037736</td>\n",
       "      <td>0.566038</td>\n",
       "    </tr>\n",
       "    <tr>\n",
       "      <th>4</th>\n",
       "      <td>0.900684</td>\n",
       "      <td>0.717202</td>\n",
       "      <td>-1.096169</td>\n",
       "      <td>0.793095</td>\n",
       "      <td>0.899659</td>\n",
       "      <td>0.343995</td>\n",
       "      <td>1.186707</td>\n",
       "      <td>-1.207808</td>\n",
       "      <td>-1.114724</td>\n",
       "      <td>-1.223352</td>\n",
       "      <td>...</td>\n",
       "      <td>0.061422</td>\n",
       "      <td>2.065003</td>\n",
       "      <td>0.305489</td>\n",
       "      <td>-0.524174</td>\n",
       "      <td>2.105599</td>\n",
       "      <td>1986.358491</td>\n",
       "      <td>0.798551</td>\n",
       "      <td>0.515713</td>\n",
       "      <td>35.037736</td>\n",
       "      <td>0.566038</td>\n",
       "    </tr>\n",
       "  </tbody>\n",
       "</table>\n",
       "<p>5 rows × 21 columns</p>\n",
       "</div>"
      ],
      "text/plain": [
       "   num__LotFrontage  num__LotArea  num__OpenPorchSF  num__MasVnrArea  \\\n",
       "0          0.144140     -0.158460         -1.096169        -0.827815   \n",
       "1          1.204764      0.612540          0.517257         1.413568   \n",
       "2         -0.556568     -0.029579         -1.096169        -0.827815   \n",
       "3         -0.911425     -1.225280          0.389147        -0.827815   \n",
       "4          0.900684      0.717202         -1.096169         0.793095   \n",
       "\n",
       "   num__BsmtFinSF1  num__GrLivArea  num__1stFlrSF  num__YearBuilt  \\\n",
       "0         0.755219       -0.922794      -0.126358        0.227176   \n",
       "1         0.902910        1.808434       0.944129       -0.783836   \n",
       "2        -1.416429       -1.038836      -0.246639        1.401254   \n",
       "3         0.585846        0.425488      -0.321073        0.748988   \n",
       "4         0.899659        0.343995       1.186707       -1.207808   \n",
       "\n",
       "   num__YearRemodAdd  num__BedroomAbvGr  ...  num__BsmtUnfSF  num__GarageArea  \\\n",
       "0          -0.873470          -2.157869  ...       -0.391317        -1.006014   \n",
       "1          -0.487465          -2.157869  ...       -0.312872         1.117159   \n",
       "2           1.683818          -1.223352  ...        0.980347        -0.551048   \n",
       "3           1.683818          -2.157869  ...        0.077111        -0.266695   \n",
       "4          -1.114724          -1.223352  ...        0.061422         2.065003   \n",
       "\n",
       "   num__GarageYrBlt  num__OverallCond  num__OverallQual          Age  \\\n",
       "0          0.205698          2.165000         -0.088934  1986.358491   \n",
       "1          0.274443         -0.524174          1.374088  1986.358491   \n",
       "2          0.125865          0.372217         -0.820445  1986.358491   \n",
       "3          0.176869          1.268609         -0.088934  1986.358491   \n",
       "4          0.305489         -0.524174          2.105599  1986.358491   \n",
       "\n",
       "   LivingLotRatio  FinishedBsmtRatio  OverallScore  HasPorch  \n",
       "0        0.798551           0.515713     35.037736  0.566038  \n",
       "1        0.798551           0.515713     35.037736  0.566038  \n",
       "2        0.798551           0.515713     35.037736  0.566038  \n",
       "3        0.798551           0.515713     35.037736  0.566038  \n",
       "4        0.798551           0.515713     35.037736  0.566038  \n",
       "\n",
       "[5 rows x 21 columns]"
      ]
     },
     "metadata": {},
     "output_type": "display_data"
    },
    {
     "name": "stdout",
     "output_type": "stream",
     "text": [
      "\n",
      "Preview of Training Target Dataset:\n"
     ]
    },
    {
     "data": {
      "text/html": [
       "<div>\n",
       "<style scoped>\n",
       "    .dataframe tbody tr th:only-of-type {\n",
       "        vertical-align: middle;\n",
       "    }\n",
       "\n",
       "    .dataframe tbody tr th {\n",
       "        vertical-align: top;\n",
       "    }\n",
       "\n",
       "    .dataframe thead th {\n",
       "        text-align: right;\n",
       "    }\n",
       "</style>\n",
       "<table border=\"1\" class=\"dataframe\">\n",
       "  <thead>\n",
       "    <tr style=\"text-align: right;\">\n",
       "      <th></th>\n",
       "      <th>SalePrice</th>\n",
       "    </tr>\n",
       "  </thead>\n",
       "  <tbody>\n",
       "    <tr>\n",
       "      <th>0</th>\n",
       "      <td>145000</td>\n",
       "    </tr>\n",
       "    <tr>\n",
       "      <th>1</th>\n",
       "      <td>178000</td>\n",
       "    </tr>\n",
       "    <tr>\n",
       "      <th>2</th>\n",
       "      <td>85000</td>\n",
       "    </tr>\n",
       "    <tr>\n",
       "      <th>3</th>\n",
       "      <td>175000</td>\n",
       "    </tr>\n",
       "    <tr>\n",
       "      <th>4</th>\n",
       "      <td>127000</td>\n",
       "    </tr>\n",
       "  </tbody>\n",
       "</table>\n",
       "</div>"
      ],
      "text/plain": [
       "   SalePrice\n",
       "0     145000\n",
       "1     178000\n",
       "2      85000\n",
       "3     175000\n",
       "4     127000"
      ]
     },
     "metadata": {},
     "output_type": "display_data"
    },
    {
     "name": "stdout",
     "output_type": "stream",
     "text": [
      "\n",
      "Preview of Testing Target Dataset:\n"
     ]
    },
    {
     "data": {
      "text/html": [
       "<div>\n",
       "<style scoped>\n",
       "    .dataframe tbody tr th:only-of-type {\n",
       "        vertical-align: middle;\n",
       "    }\n",
       "\n",
       "    .dataframe tbody tr th {\n",
       "        vertical-align: top;\n",
       "    }\n",
       "\n",
       "    .dataframe thead th {\n",
       "        text-align: right;\n",
       "    }\n",
       "</style>\n",
       "<table border=\"1\" class=\"dataframe\">\n",
       "  <thead>\n",
       "    <tr style=\"text-align: right;\">\n",
       "      <th></th>\n",
       "      <th>SalePrice</th>\n",
       "    </tr>\n",
       "  </thead>\n",
       "  <tbody>\n",
       "    <tr>\n",
       "      <th>0</th>\n",
       "      <td>154500</td>\n",
       "    </tr>\n",
       "    <tr>\n",
       "      <th>1</th>\n",
       "      <td>325000</td>\n",
       "    </tr>\n",
       "    <tr>\n",
       "      <th>2</th>\n",
       "      <td>115000</td>\n",
       "    </tr>\n",
       "    <tr>\n",
       "      <th>3</th>\n",
       "      <td>159000</td>\n",
       "    </tr>\n",
       "    <tr>\n",
       "      <th>4</th>\n",
       "      <td>315500</td>\n",
       "    </tr>\n",
       "  </tbody>\n",
       "</table>\n",
       "</div>"
      ],
      "text/plain": [
       "   SalePrice\n",
       "0     154500\n",
       "1     325000\n",
       "2     115000\n",
       "3     159000\n",
       "4     315500"
      ]
     },
     "metadata": {},
     "output_type": "display_data"
    },
    {
     "name": "stdout",
     "output_type": "stream",
     "text": [
      "\n",
      "Checking for missing values in training features:\n",
      "num__LotFrontage          0\n",
      "num__LotArea              0\n",
      "num__OpenPorchSF          0\n",
      "num__MasVnrArea           0\n",
      "num__BsmtFinSF1           0\n",
      "num__GrLivArea            0\n",
      "num__1stFlrSF             0\n",
      "num__YearBuilt            0\n",
      "num__YearRemodAdd         0\n",
      "num__BedroomAbvGr         0\n",
      "num__2ndFlrSF             0\n",
      "num__BsmtUnfSF            0\n",
      "num__GarageArea           0\n",
      "num__GarageYrBlt          0\n",
      "num__OverallCond          0\n",
      "num__OverallQual          0\n",
      "num__Age                  0\n",
      "num__LivingLotRatio       0\n",
      "num__FinishedBsmtRatio    0\n",
      "num__OverallScore         0\n",
      "cat__HasPorch_1           0\n",
      "dtype: int64\n",
      "\n",
      "Checking for missing values in training target:\n",
      "SalePrice    0\n",
      "dtype: int64\n"
     ]
    }
   ],
   "source": [
    "import pandas as pd\n",
    "\n",
    "# Define file paths for datasets\n",
    "x_train_path = \"outputs/datasets/processed/transformed/x_train_transformed.csv\"\n",
    "x_test_path = \"outputs/datasets/processed/transformed/x_test_transformed.csv\"\n",
    "y_train_path = \"outputs/datasets/processed/split/y_train.csv\"\n",
    "y_test_path = \"outputs/datasets/processed/split/y_test.csv\"\n",
    "\n",
    "# Load Datasets\n",
    "x_train = pd.read_csv(x_train_path)\n",
    "x_test = pd.read_csv(x_test_path)\n",
    "y_train = pd.read_csv(y_train_path)\n",
    "y_test = pd.read_csv(y_test_path)\n",
    "\n",
    "# Align x_test with y_test to ensure the rows match\n",
    "x_test = x_test.loc[y_test.index].reset_index(drop=True)\n",
    "y_test = y_test.reset_index(drop=True)\n",
    "\n",
    "# Validate the Alignment\n",
    "print(\"Aligned x_test shape:\", x_test.shape)\n",
    "print(\"ALigned y_test shape:\", y_test.shape)\n",
    "assert x_test.shape[0] == y_test.shape[0], \"x_test and y_test row counts do not match!\"\n",
    "\n",
    "# Check for residual missing values in x_test and handle them\n",
    "print(\"\\nChecking for missing values in testing features before handling:\")\n",
    "print(x_test.isnull().sum())\n",
    "\n",
    "# Fill missing values column-wise if necessary\n",
    "x_test = x_test.fillna(x_test.mean())\n",
    "\n",
    "print(\"\\nChecking for missing values in testing features after handling:\")\n",
    "print(x_test.isnull().sum())\n",
    "\n",
    "# Display basic information about the datasets\n",
    "print(\"Training Features Dataset:\")\n",
    "print(x_train.info())\n",
    "print(\"\\nTesting Features Dataset:\")\n",
    "print(x_test.info())\n",
    "print(\"\\nTraining Target Dataset:\")\n",
    "print(y_train.info())\n",
    "print(\"\\nTesting Target Dataset:\")\n",
    "print(y_test.info())\n",
    "\n",
    "# Preview the first few rows of each dataset\n",
    "print(\"\\nPreview of Training Features Dataset:\")\n",
    "display(x_train.head())\n",
    "\n",
    "print(\"\\nPreview of Testing Features Dataset:\")\n",
    "display(x_test.head())\n",
    "\n",
    "print(\"\\nPreview of Training Target Dataset:\")\n",
    "display(y_train.head())\n",
    "\n",
    "print(\"\\nPreview of Testing Target Dataset:\")\n",
    "display(y_test.head())\n",
    "\n",
    "# Check for missing values in training datasets\n",
    "print(\"\\nChecking for missing values in training features:\")\n",
    "print(x_train.isnull().sum())\n",
    "\n",
    "print(\"\\nChecking for missing values in training target:\")\n",
    "print(y_train.isnull().sum())\n"
   ]
  },
  {
   "cell_type": "markdown",
   "metadata": {},
   "source": [
    "**Expected Outputs:**\n",
    "\n",
    "1. **Dataset Structure:**\n",
    "   - Training Features: 1168 rows and 21 columns, all numeric and scaled (`float64`).\n",
    "   - Testing Features: 292 rows and 21 columns, all numeric and scaled (`float64`).\n",
    "   - Training Target: 1168 rows and 1 column (`int64`).\n",
    "   - Testing Target: 292 rows and 1 column (`int64`).\n",
    "2. **Data Alignment:**\n",
    "   - Testing features (x_test) and target (y_test) datasets are aligned with matching rows.\n",
    "3. **Handling Missing Values:**\n",
    "   - Missing values in the testing features dataset (`x_test`) are addressed by filling with column-wise means.\n",
    "   - The final datasets show no missing values, as confirmed by the `0` counts accross all columns.\n",
    "4. **Preview of Data:**\n",
    "   - The first few rows of each dataset confirm the structure, scaling and content.\n",
    "   - Features are scaled, and target variables are numeric.\n",
    "5. **Readiness for Analysis:**\n",
    "   - Datasets are complete, aligned, and preprocessed for further exploration."
   ]
  },
  {
   "cell_type": "markdown",
   "metadata": {
    "id": "ZY3l0-AxO93d"
   },
   "source": [
    "---"
   ]
  },
  {
   "cell_type": "markdown",
   "metadata": {
    "id": "uFQo3ycuO-v6"
   },
   "source": [
    "## Exploratory Data Analysis (EDA)"
   ]
  },
  {
   "cell_type": "markdown",
   "metadata": {},
   "source": [
    "### Sale Price Distribution"
   ]
  },
  {
   "cell_type": "markdown",
   "metadata": {},
   "source": [
    "### Correlation Analysis"
   ]
  },
  {
   "cell_type": "markdown",
   "metadata": {},
   "source": [
    "### Pairwise Analysis"
   ]
  },
  {
   "cell_type": "markdown",
   "metadata": {},
   "source": [
    "### Multivariate Analysis"
   ]
  },
  {
   "cell_type": "markdown",
   "metadata": {},
   "source": [
    "### Feature Comparison Accross Quartiles"
   ]
  },
  {
   "cell_type": "markdown",
   "metadata": {},
   "source": [
    "### Outlier Analysis"
   ]
  },
  {
   "cell_type": "markdown",
   "metadata": {},
   "source": [
    "---"
   ]
  },
  {
   "cell_type": "markdown",
   "metadata": {},
   "source": [
    "## Business Insights"
   ]
  },
  {
   "cell_type": "markdown",
   "metadata": {},
   "source": [
    "### Key Drivers of Sale Price"
   ]
  },
  {
   "cell_type": "markdown",
   "metadata": {},
   "source": [
    "### Client-Specific Observations"
   ]
  },
  {
   "cell_type": "markdown",
   "metadata": {},
   "source": [
    "---"
   ]
  },
  {
   "cell_type": "markdown",
   "metadata": {},
   "source": [
    "## Save Outputs"
   ]
  },
  {
   "cell_type": "markdown",
   "metadata": {},
   "source": [
    "---"
   ]
  },
  {
   "cell_type": "markdown",
   "metadata": {},
   "source": [
    "## Conclusion & Next Steps"
   ]
  },
  {
   "cell_type": "markdown",
   "metadata": {},
   "source": [
    "### Conclusion"
   ]
  },
  {
   "cell_type": "markdown",
   "metadata": {},
   "source": [
    "### Next Steps"
   ]
  }
 ],
 "metadata": {
  "accelerator": "GPU",
  "colab": {
   "name": "Data Practitioner Jupyter Notebook.ipynb",
   "provenance": [],
   "toc_visible": true
  },
  "kernelspec": {
   "display_name": "Python 3",
   "language": "python",
   "name": "python3"
  },
  "language_info": {
   "codemirror_mode": {
    "name": "ipython",
    "version": 3
   },
   "file_extension": ".py",
   "mimetype": "text/x-python",
   "name": "python",
   "nbconvert_exporter": "python",
   "pygments_lexer": "ipython3",
   "version": "3.8.18"
  },
  "orig_nbformat": 2
 },
 "nbformat": 4,
 "nbformat_minor": 2
}
