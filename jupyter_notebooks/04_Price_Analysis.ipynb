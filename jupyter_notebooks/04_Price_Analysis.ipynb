{
 "cells": [
  {
   "cell_type": "markdown",
   "metadata": {
    "id": "0aStgWSO0E0E"
   },
   "source": [
    "# **Notebook 4: Price Analysis**"
   ]
  },
  {
   "cell_type": "markdown",
   "metadata": {
    "id": "1eLEkw5O0ECa"
   },
   "source": [
    "## Objectives\n",
    "\n",
    "* **Explore Relationships Between Features and Sale Price**\n",
    "  * Conduct in-depth analysis of the relationships between house attributes and the target variable, `SalePrice`.\n",
    "  * Utilize visualizations and statistical methods to identify trendds and patterns that affect property values.\n",
    "* **Validate Business Hypotheses**\n",
    "  * Test key hypotheses about the drivers of house prices, including the influence of quality, size and location attributes.\n",
    "* **Generate Insights for Client Needs**\n",
    "  * Provide actionable insights to help the Client to understand the factors influencing the value of their inherited properties and similar houses in Ames, Iowa.\n",
    "  * Present findings in a clear and interpretable manner for client use.\n",
    "* **Prepare Visualizations for Dashboard**\n",
    "  * Develop interactive and static visualizations that effectively communicate findings and lign with the dashboard requirements.\n",
    "\n",
    "## Inputs\n",
    "\n",
    "* **Processed Datasets**\n",
    "  * `x_train_transformed.csv`: Feature-engineered and scaled training dataset for modeling and analysis.\n",
    "  * `x_test_transformed.csv`: Feature-engineered and scales testing dataset for validation.\n",
    "  * `y_train.csv`: Training dataset target variable (SalePrice).\n",
    "  * `y_test.csv`: Testing dataset target variable (SalePrice).\n",
    "* **Supplementary Data**\n",
    "  * Domain knowledge and project-specific hypotheses for guiding analysis.\n",
    "* **Stored Locations**\n",
    "  * Datasets are located in the `outputs/datasets/processed/transformed/` and `outputs/datasets/processed/split/` directories.\n",
    "\n",
    "## Outputs\n",
    "\n",
    "* **Insights and Findings**\n",
    "  * Detailed analysis of the relationships between key features and sale price.\n",
    "  * Validation of hypotheses with supporting evidence.\n",
    "* **Visualizations**\n",
    "  * Scatter plots, box plots, heatmaps, and other graphical representations to highlight trends and patterns.\n",
    "  * Summary visualizations prepared for dashboard integration.\n",
    "* **Documentation**\n",
    "  * Summary of analysis, key takeaways, and recommendations for downstream modeling and dashboard integration.\n",
    "\n",
    "## Additional Comments\n",
    "\n",
    "* **Context**\n",
    "  * This notebook focuses on data exploration and analysis, bridhing the gap between feature engineering and model building. It provides the foundation for deriving insights and recommendations.\n",
    "* **Alignment with CRISP-DM**\n",
    "  * This notebook aligns with the Data Understanding and Business Understanding steps, ensuring that exploratory findings are actionable and relevant to the client's needs.\n",
    "* **Next Steps**\n",
    "  * The outputs from this notebook will inform the Model Training and Evaluation notebook, where predictive models will be developed and optimized.\n"
   ]
  },
  {
   "cell_type": "markdown",
   "metadata": {
    "id": "9uWZXH9LwoQg"
   },
   "source": [
    "---"
   ]
  },
  {
   "cell_type": "markdown",
   "metadata": {
    "id": "cqP-UeN-z3i2"
   },
   "source": [
    "## Change working directory"
   ]
  },
  {
   "cell_type": "markdown",
   "metadata": {},
   "source": [
    "* We are assuming you will store the notebooks in a subfolder, therefore when running the notebook in the editor, you will need to change the working directory"
   ]
  },
  {
   "cell_type": "markdown",
   "metadata": {
    "id": "aOGIGS-uz3i2"
   },
   "source": [
    "We need to change the working directory from its current folder to its parent folder\n",
    "* We access the current directory with os.getcwd()"
   ]
  },
  {
   "cell_type": "code",
   "execution_count": null,
   "metadata": {
    "id": "wZfF_j-Bz3i4",
    "outputId": "66943449-1436-4c3d-85c7-b85f9f78349b"
   },
   "outputs": [],
   "source": [
    "import os\n",
    "current_dir = os.getcwd()\n",
    "current_dir"
   ]
  },
  {
   "cell_type": "markdown",
   "metadata": {
    "id": "9MWW8E7lz3i7"
   },
   "source": [
    "We want to make the parent of the current directory the new current directory\n",
    "* os.path.dirname() gets the parent directory\n",
    "* os.chir() defines the new current directory"
   ]
  },
  {
   "cell_type": "code",
   "execution_count": null,
   "metadata": {
    "id": "TwHsQRWjz3i9",
    "outputId": "86849db3-cd2f-4cc5-ebb8-2d0caafa1a2c"
   },
   "outputs": [],
   "source": [
    "os.chdir(os.path.dirname(current_dir))\n",
    "print(\"You set a new current directory\")"
   ]
  },
  {
   "cell_type": "markdown",
   "metadata": {
    "id": "M_xPk_Ijz3i-"
   },
   "source": [
    "Confirm the new current directory"
   ]
  },
  {
   "cell_type": "code",
   "execution_count": null,
   "metadata": {
    "id": "vz3S-_kjz3jA",
    "outputId": "00b79ae4-75d0-4a96-d193-ac9ef9847ea2"
   },
   "outputs": [],
   "source": [
    "current_dir = os.getcwd()\n",
    "current_dir"
   ]
  },
  {
   "cell_type": "markdown",
   "metadata": {},
   "source": [
    "---"
   ]
  },
  {
   "cell_type": "markdown",
   "metadata": {
    "id": "-mavJ8DibrcQ"
   },
   "source": [
    "## Load and Prepare Data"
   ]
  },
  {
   "cell_type": "markdown",
   "metadata": {
    "id": "ZY3l0-AxO93d"
   },
   "source": [
    "---"
   ]
  },
  {
   "cell_type": "markdown",
   "metadata": {
    "id": "uFQo3ycuO-v6"
   },
   "source": [
    "## Exploratory Data Analysis (EDA)"
   ]
  },
  {
   "cell_type": "markdown",
   "metadata": {},
   "source": [
    "### Sale Price Distribution"
   ]
  },
  {
   "cell_type": "markdown",
   "metadata": {},
   "source": [
    "### Correlation Analysis"
   ]
  },
  {
   "cell_type": "markdown",
   "metadata": {},
   "source": [
    "### Pairwise Analysis"
   ]
  },
  {
   "cell_type": "markdown",
   "metadata": {},
   "source": [
    "### Multivariate Analysis"
   ]
  },
  {
   "cell_type": "markdown",
   "metadata": {},
   "source": [
    "### Feature Comparison Accross Quartiles"
   ]
  },
  {
   "cell_type": "markdown",
   "metadata": {},
   "source": [
    "### Outlier Analysis"
   ]
  },
  {
   "cell_type": "markdown",
   "metadata": {},
   "source": [
    "---"
   ]
  },
  {
   "cell_type": "markdown",
   "metadata": {},
   "source": [
    "## Business Insights"
   ]
  },
  {
   "cell_type": "markdown",
   "metadata": {},
   "source": [
    "### Key Drivers of Sale Price"
   ]
  },
  {
   "cell_type": "markdown",
   "metadata": {},
   "source": [
    "### Client-Specific Observations"
   ]
  },
  {
   "cell_type": "markdown",
   "metadata": {},
   "source": [
    "---"
   ]
  },
  {
   "cell_type": "markdown",
   "metadata": {},
   "source": [
    "## Save Outputs"
   ]
  },
  {
   "cell_type": "markdown",
   "metadata": {},
   "source": [
    "---"
   ]
  },
  {
   "cell_type": "markdown",
   "metadata": {},
   "source": [
    "## Conclusion & Next Steps"
   ]
  },
  {
   "cell_type": "markdown",
   "metadata": {},
   "source": [
    "### Conclusion"
   ]
  },
  {
   "cell_type": "markdown",
   "metadata": {},
   "source": [
    "### Next Steps"
   ]
  }
 ],
 "metadata": {
  "accelerator": "GPU",
  "colab": {
   "name": "Data Practitioner Jupyter Notebook.ipynb",
   "provenance": [],
   "toc_visible": true
  },
  "interpreter": {
   "hash": "8b8334dab9339717f727a1deaf837b322d7a41c20d15cc86be99a8e69ceec8ce"
  },
  "kernelspec": {
   "display_name": "Python 3.8.12 64-bit ('3.8.12': pyenv)",
   "name": "python3"
  },
  "language_info": {
   "codemirror_mode": {
    "name": "ipython",
    "version": 3
   },
   "file_extension": ".py",
   "mimetype": "text/x-python",
   "name": "python",
   "nbconvert_exporter": "python",
   "pygments_lexer": "ipython3",
   "version": "3.8.12"
  },
  "orig_nbformat": 2
 },
 "nbformat": 4,
 "nbformat_minor": 2
}
