{
 "cells": [
  {
   "cell_type": "markdown",
   "metadata": {
    "id": "0aStgWSO0E0E"
   },
   "source": [
    "# **Notebook 5: Model Training and Evaluation**"
   ]
  },
  {
   "cell_type": "markdown",
   "metadata": {
    "id": "1eLEkw5O0ECa"
   },
   "source": [
    "## Objectives\n",
    "\n",
    "The primary objective of this notebook is to develop, evaluate, and select the best-performing machine learning model(s) to predict house sale prices in Ames, Iowa. This involves training models on the processed datasets, fine-uning their hyperparameters, and assessing their performance based on defined metrics.\n",
    "\n",
    "## Inputs\n",
    "\n",
    "* **Training Dataset with Target (`train_with_target.csv`):** Includes processed features and the log-transformed target variable (`LogSalePrice`) for model training.\n",
    "* **Testing Dataset with Target (`test_with_target.csv`):** Includes processed features and the log-transformed target variable (`LogSalePrice`) for model evaluation.\n",
    "* **Key Feature Correlations (`key_drivers_correlation.csv`):** Identified the most impactful features influencing the target variable.\n",
    "\n",
    "## Outputs\n",
    "\n",
    "* **Trained Models:** Serialized versions of trained models saved for deployment.\n",
    "* **Evaluation Metrics:** Metrics like R2, Mean Absolute Error (MAE), Mean Squared Error (MSE), and Root Mean Squared Error (RMSE) for model comparison.\n",
    "* **Feature Importances:** Insights into which features contributed most to model predictions.\n",
    "* **Model Performance Report:** Comprehensive report summarizing model performance and insights.\n",
    "\n",
    "## Additional Comments\n",
    "\n",
    "* The notebook is structured to ensure modularity, allowing for easy updates or experimentation with different models or preprocessing steps.\n",
    "* Exploratory insights gained in the previous notebook will inform feature selection and preprocessing strategies.\n",
    "* Advanced modeling techniques, such as hyperparameter optimization and ensemble learning, will be considered for improving accuracy.\n"
   ]
  },
  {
   "cell_type": "markdown",
   "metadata": {
    "id": "9uWZXH9LwoQg"
   },
   "source": [
    "---"
   ]
  },
  {
   "cell_type": "markdown",
   "metadata": {
    "id": "cqP-UeN-z3i2"
   },
   "source": [
    "## Change working directory"
   ]
  },
  {
   "cell_type": "markdown",
   "metadata": {},
   "source": [
    "* We are assuming you will store the notebooks in a subfolder, therefore when running the notebook in the editor, you will need to change the working directory"
   ]
  },
  {
   "cell_type": "markdown",
   "metadata": {
    "id": "aOGIGS-uz3i2"
   },
   "source": [
    "We need to change the working directory from its current folder to its parent folder\n",
    "* We access the current directory with os.getcwd()"
   ]
  },
  {
   "cell_type": "code",
   "execution_count": 1,
   "metadata": {
    "id": "wZfF_j-Bz3i4",
    "outputId": "66943449-1436-4c3d-85c7-b85f9f78349b"
   },
   "outputs": [
    {
     "data": {
      "text/plain": [
       "'/workspace/Predictive-Analytics-PP5/jupyter_notebooks'"
      ]
     },
     "execution_count": 1,
     "metadata": {},
     "output_type": "execute_result"
    }
   ],
   "source": [
    "import os\n",
    "current_dir = os.getcwd()\n",
    "current_dir"
   ]
  },
  {
   "cell_type": "markdown",
   "metadata": {
    "id": "9MWW8E7lz3i7"
   },
   "source": [
    "We want to make the parent of the current directory the new current directory\n",
    "* os.path.dirname() gets the parent directory\n",
    "* os.chir() defines the new current directory"
   ]
  },
  {
   "cell_type": "code",
   "execution_count": 2,
   "metadata": {
    "id": "TwHsQRWjz3i9",
    "outputId": "86849db3-cd2f-4cc5-ebb8-2d0caafa1a2c"
   },
   "outputs": [
    {
     "name": "stdout",
     "output_type": "stream",
     "text": [
      "You set a new current directory\n"
     ]
    }
   ],
   "source": [
    "os.chdir(os.path.dirname(current_dir))\n",
    "print(\"You set a new current directory\")"
   ]
  },
  {
   "cell_type": "markdown",
   "metadata": {
    "id": "M_xPk_Ijz3i-"
   },
   "source": [
    "Confirm the new current directory"
   ]
  },
  {
   "cell_type": "code",
   "execution_count": 3,
   "metadata": {
    "id": "vz3S-_kjz3jA",
    "outputId": "00b79ae4-75d0-4a96-d193-ac9ef9847ea2"
   },
   "outputs": [
    {
     "data": {
      "text/plain": [
       "'/workspace/Predictive-Analytics-PP5'"
      ]
     },
     "execution_count": 3,
     "metadata": {},
     "output_type": "execute_result"
    }
   ],
   "source": [
    "current_dir = os.getcwd()\n",
    "current_dir"
   ]
  },
  {
   "cell_type": "markdown",
   "metadata": {},
   "source": [
    "---"
   ]
  },
  {
   "cell_type": "markdown",
   "metadata": {},
   "source": [
    "## Data Preparation"
   ]
  },
  {
   "cell_type": "markdown",
   "metadata": {},
   "source": [
    "### Load Processed Data\n",
    "\n",
    "**Objective:** Load the preprocessed datasets required for model training and evaluation.\n",
    "\n",
    "**Inputs:**\n",
    "- `train_with_target.csv` and `test_with_target.csv` files containing the processed training and testing datasets with the target variable included."
   ]
  },
  {
   "cell_type": "code",
   "execution_count": 7,
   "metadata": {},
   "outputs": [
    {
     "name": "stdout",
     "output_type": "stream",
     "text": [
      "x_train data shape: (1168, 21)\n",
      "x_test data shape: (292, 21)\n",
      "y_train data shape: (1168,)\n",
      "y_test data shape: (292,)\n",
      "\n",
      "Preview of x_train:\n"
     ]
    },
    {
     "data": {
      "text/html": [
       "<div>\n",
       "<style scoped>\n",
       "    .dataframe tbody tr th:only-of-type {\n",
       "        vertical-align: middle;\n",
       "    }\n",
       "\n",
       "    .dataframe tbody tr th {\n",
       "        vertical-align: top;\n",
       "    }\n",
       "\n",
       "    .dataframe thead th {\n",
       "        text-align: right;\n",
       "    }\n",
       "</style>\n",
       "<table border=\"1\" class=\"dataframe\">\n",
       "  <thead>\n",
       "    <tr style=\"text-align: right;\">\n",
       "      <th></th>\n",
       "      <th>num__LotFrontage</th>\n",
       "      <th>num__LotArea</th>\n",
       "      <th>num__OpenPorchSF</th>\n",
       "      <th>num__MasVnrArea</th>\n",
       "      <th>num__BsmtFinSF1</th>\n",
       "      <th>num__GrLivArea</th>\n",
       "      <th>num__1stFlrSF</th>\n",
       "      <th>num__YearBuilt</th>\n",
       "      <th>num__YearRemodAdd</th>\n",
       "      <th>num__BedroomAbvGr</th>\n",
       "      <th>...</th>\n",
       "      <th>num__BsmtUnfSF</th>\n",
       "      <th>num__GarageArea</th>\n",
       "      <th>num__GarageYrBlt</th>\n",
       "      <th>num__OverallCond</th>\n",
       "      <th>num__OverallQual</th>\n",
       "      <th>num__Age</th>\n",
       "      <th>num__LivingLotRatio</th>\n",
       "      <th>num__FinishedBsmtRatio</th>\n",
       "      <th>num__OverallScore</th>\n",
       "      <th>cat__HasPorch_1</th>\n",
       "    </tr>\n",
       "  </thead>\n",
       "  <tbody>\n",
       "    <tr>\n",
       "      <th>0</th>\n",
       "      <td>0.144140</td>\n",
       "      <td>-0.161873</td>\n",
       "      <td>-1.096169</td>\n",
       "      <td>-0.827815</td>\n",
       "      <td>0.865283</td>\n",
       "      <td>-0.292584</td>\n",
       "      <td>0.526873</td>\n",
       "      <td>0.455469</td>\n",
       "      <td>1.346063</td>\n",
       "      <td>-0.288836</td>\n",
       "      <td>...</td>\n",
       "      <td>-0.400282</td>\n",
       "      <td>-0.863837</td>\n",
       "      <td>0.192392</td>\n",
       "      <td>0.372217</td>\n",
       "      <td>-0.820445</td>\n",
       "      <td>-0.455469</td>\n",
       "      <td>-0.116096</td>\n",
       "      <td>0.887733</td>\n",
       "      <td>-0.437833</td>\n",
       "      <td>0.0</td>\n",
       "    </tr>\n",
       "    <tr>\n",
       "      <th>1</th>\n",
       "      <td>-0.392921</td>\n",
       "      <td>-0.304082</td>\n",
       "      <td>0.617419</td>\n",
       "      <td>-0.827815</td>\n",
       "      <td>-1.416429</td>\n",
       "      <td>0.250597</td>\n",
       "      <td>-1.040595</td>\n",
       "      <td>-0.718609</td>\n",
       "      <td>-0.439214</td>\n",
       "      <td>-0.288836</td>\n",
       "      <td>...</td>\n",
       "      <td>0.511920</td>\n",
       "      <td>-0.456264</td>\n",
       "      <td>0.272225</td>\n",
       "      <td>1.268609</td>\n",
       "      <td>-0.088934</td>\n",
       "      <td>0.718609</td>\n",
       "      <td>0.455054</td>\n",
       "      <td>-1.415946</td>\n",
       "      <td>0.858190</td>\n",
       "      <td>1.0</td>\n",
       "    </tr>\n",
       "    <tr>\n",
       "      <th>2</th>\n",
       "      <td>0.006402</td>\n",
       "      <td>-0.071879</td>\n",
       "      <td>-1.096169</td>\n",
       "      <td>-0.827815</td>\n",
       "      <td>-1.416429</td>\n",
       "      <td>-1.816242</td>\n",
       "      <td>-1.052445</td>\n",
       "      <td>1.988293</td>\n",
       "      <td>1.683818</td>\n",
       "      <td>0.645680</td>\n",
       "      <td>...</td>\n",
       "      <td>0.505196</td>\n",
       "      <td>-2.257169</td>\n",
       "      <td>-4.147410</td>\n",
       "      <td>1.268609</td>\n",
       "      <td>-0.820445</td>\n",
       "      <td>-1.988293</td>\n",
       "      <td>-1.409123</td>\n",
       "      <td>-1.415946</td>\n",
       "      <td>0.102176</td>\n",
       "      <td>0.0</td>\n",
       "    </tr>\n",
       "    <tr>\n",
       "      <th>3</th>\n",
       "      <td>-0.340186</td>\n",
       "      <td>-0.477855</td>\n",
       "      <td>-1.096169</td>\n",
       "      <td>1.276291</td>\n",
       "      <td>0.704206</td>\n",
       "      <td>0.609851</td>\n",
       "      <td>-0.394093</td>\n",
       "      <td>1.107734</td>\n",
       "      <td>1.683818</td>\n",
       "      <td>-0.288836</td>\n",
       "      <td>...</td>\n",
       "      <td>-0.915776</td>\n",
       "      <td>-1.119755</td>\n",
       "      <td>0.152476</td>\n",
       "      <td>1.268609</td>\n",
       "      <td>-0.820445</td>\n",
       "      <td>-1.107734</td>\n",
       "      <td>0.918129</td>\n",
       "      <td>0.640194</td>\n",
       "      <td>0.102176</td>\n",
       "      <td>0.0</td>\n",
       "    </tr>\n",
       "    <tr>\n",
       "      <th>4</th>\n",
       "      <td>-0.911425</td>\n",
       "      <td>-1.225280</td>\n",
       "      <td>-1.096169</td>\n",
       "      <td>-0.827815</td>\n",
       "      <td>0.384534</td>\n",
       "      <td>0.474436</td>\n",
       "      <td>-0.252776</td>\n",
       "      <td>1.531707</td>\n",
       "      <td>1.683818</td>\n",
       "      <td>-0.288836</td>\n",
       "      <td>...</td>\n",
       "      <td>0.532091</td>\n",
       "      <td>-0.797488</td>\n",
       "      <td>0.119212</td>\n",
       "      <td>0.372217</td>\n",
       "      <td>-0.820445</td>\n",
       "      <td>-1.531707</td>\n",
       "      <td>1.593562</td>\n",
       "      <td>0.340697</td>\n",
       "      <td>-0.437833</td>\n",
       "      <td>0.0</td>\n",
       "    </tr>\n",
       "  </tbody>\n",
       "</table>\n",
       "<p>5 rows × 21 columns</p>\n",
       "</div>"
      ],
      "text/plain": [
       "   num__LotFrontage  num__LotArea  num__OpenPorchSF  num__MasVnrArea  \\\n",
       "0          0.144140     -0.161873         -1.096169        -0.827815   \n",
       "1         -0.392921     -0.304082          0.617419        -0.827815   \n",
       "2          0.006402     -0.071879         -1.096169        -0.827815   \n",
       "3         -0.340186     -0.477855         -1.096169         1.276291   \n",
       "4         -0.911425     -1.225280         -1.096169        -0.827815   \n",
       "\n",
       "   num__BsmtFinSF1  num__GrLivArea  num__1stFlrSF  num__YearBuilt  \\\n",
       "0         0.865283       -0.292584       0.526873        0.455469   \n",
       "1        -1.416429        0.250597      -1.040595       -0.718609   \n",
       "2        -1.416429       -1.816242      -1.052445        1.988293   \n",
       "3         0.704206        0.609851      -0.394093        1.107734   \n",
       "4         0.384534        0.474436      -0.252776        1.531707   \n",
       "\n",
       "   num__YearRemodAdd  num__BedroomAbvGr  ...  num__BsmtUnfSF  num__GarageArea  \\\n",
       "0           1.346063          -0.288836  ...       -0.400282        -0.863837   \n",
       "1          -0.439214          -0.288836  ...        0.511920        -0.456264   \n",
       "2           1.683818           0.645680  ...        0.505196        -2.257169   \n",
       "3           1.683818          -0.288836  ...       -0.915776        -1.119755   \n",
       "4           1.683818          -0.288836  ...        0.532091        -0.797488   \n",
       "\n",
       "   num__GarageYrBlt  num__OverallCond  num__OverallQual  num__Age  \\\n",
       "0          0.192392          0.372217         -0.820445 -0.455469   \n",
       "1          0.272225          1.268609         -0.088934  0.718609   \n",
       "2         -4.147410          1.268609         -0.820445 -1.988293   \n",
       "3          0.152476          1.268609         -0.820445 -1.107734   \n",
       "4          0.119212          0.372217         -0.820445 -1.531707   \n",
       "\n",
       "   num__LivingLotRatio  num__FinishedBsmtRatio  num__OverallScore  \\\n",
       "0            -0.116096                0.887733          -0.437833   \n",
       "1             0.455054               -1.415946           0.858190   \n",
       "2            -1.409123               -1.415946           0.102176   \n",
       "3             0.918129                0.640194           0.102176   \n",
       "4             1.593562                0.340697          -0.437833   \n",
       "\n",
       "   cat__HasPorch_1  \n",
       "0              0.0  \n",
       "1              1.0  \n",
       "2              0.0  \n",
       "3              0.0  \n",
       "4              0.0  \n",
       "\n",
       "[5 rows x 21 columns]"
      ]
     },
     "metadata": {},
     "output_type": "display_data"
    },
    {
     "name": "stdout",
     "output_type": "stream",
     "text": [
      "\n",
      "Preview of x_test:\n"
     ]
    },
    {
     "data": {
      "text/html": [
       "<div>\n",
       "<style scoped>\n",
       "    .dataframe tbody tr th:only-of-type {\n",
       "        vertical-align: middle;\n",
       "    }\n",
       "\n",
       "    .dataframe tbody tr th {\n",
       "        vertical-align: top;\n",
       "    }\n",
       "\n",
       "    .dataframe thead th {\n",
       "        text-align: right;\n",
       "    }\n",
       "</style>\n",
       "<table border=\"1\" class=\"dataframe\">\n",
       "  <thead>\n",
       "    <tr style=\"text-align: right;\">\n",
       "      <th></th>\n",
       "      <th>num__LotFrontage</th>\n",
       "      <th>num__LotArea</th>\n",
       "      <th>num__OpenPorchSF</th>\n",
       "      <th>num__MasVnrArea</th>\n",
       "      <th>num__BsmtFinSF1</th>\n",
       "      <th>num__GrLivArea</th>\n",
       "      <th>num__1stFlrSF</th>\n",
       "      <th>num__YearBuilt</th>\n",
       "      <th>num__YearRemodAdd</th>\n",
       "      <th>num__BedroomAbvGr</th>\n",
       "      <th>...</th>\n",
       "      <th>num__BsmtUnfSF</th>\n",
       "      <th>num__GarageArea</th>\n",
       "      <th>num__GarageYrBlt</th>\n",
       "      <th>num__OverallCond</th>\n",
       "      <th>num__OverallQual</th>\n",
       "      <th>Age</th>\n",
       "      <th>LivingLotRatio</th>\n",
       "      <th>FinishedBsmtRatio</th>\n",
       "      <th>OverallScore</th>\n",
       "      <th>HasPorch</th>\n",
       "    </tr>\n",
       "  </thead>\n",
       "  <tbody>\n",
       "    <tr>\n",
       "      <th>0</th>\n",
       "      <td>0.144140</td>\n",
       "      <td>-0.158460</td>\n",
       "      <td>-1.096169</td>\n",
       "      <td>-0.827815</td>\n",
       "      <td>0.755219</td>\n",
       "      <td>-0.922794</td>\n",
       "      <td>-0.126358</td>\n",
       "      <td>0.227176</td>\n",
       "      <td>-0.873470</td>\n",
       "      <td>-2.157869</td>\n",
       "      <td>...</td>\n",
       "      <td>-0.391317</td>\n",
       "      <td>-1.006014</td>\n",
       "      <td>0.205698</td>\n",
       "      <td>2.165000</td>\n",
       "      <td>-0.088934</td>\n",
       "      <td>1986.358491</td>\n",
       "      <td>0.798551</td>\n",
       "      <td>0.515713</td>\n",
       "      <td>35.037736</td>\n",
       "      <td>0.566038</td>\n",
       "    </tr>\n",
       "    <tr>\n",
       "      <th>1</th>\n",
       "      <td>1.204764</td>\n",
       "      <td>0.612540</td>\n",
       "      <td>0.517257</td>\n",
       "      <td>1.413568</td>\n",
       "      <td>0.902910</td>\n",
       "      <td>1.808434</td>\n",
       "      <td>0.944129</td>\n",
       "      <td>-0.783836</td>\n",
       "      <td>-0.487465</td>\n",
       "      <td>-2.157869</td>\n",
       "      <td>...</td>\n",
       "      <td>-0.312872</td>\n",
       "      <td>1.117159</td>\n",
       "      <td>0.274443</td>\n",
       "      <td>-0.524174</td>\n",
       "      <td>1.374088</td>\n",
       "      <td>1986.358491</td>\n",
       "      <td>0.798551</td>\n",
       "      <td>0.515713</td>\n",
       "      <td>35.037736</td>\n",
       "      <td>0.566038</td>\n",
       "    </tr>\n",
       "    <tr>\n",
       "      <th>2</th>\n",
       "      <td>-0.556568</td>\n",
       "      <td>-0.029579</td>\n",
       "      <td>-1.096169</td>\n",
       "      <td>-0.827815</td>\n",
       "      <td>-1.416429</td>\n",
       "      <td>-1.038836</td>\n",
       "      <td>-0.246639</td>\n",
       "      <td>1.401254</td>\n",
       "      <td>1.683818</td>\n",
       "      <td>-1.223352</td>\n",
       "      <td>...</td>\n",
       "      <td>0.980347</td>\n",
       "      <td>-0.551048</td>\n",
       "      <td>0.125865</td>\n",
       "      <td>0.372217</td>\n",
       "      <td>-0.820445</td>\n",
       "      <td>1986.358491</td>\n",
       "      <td>0.798551</td>\n",
       "      <td>0.515713</td>\n",
       "      <td>35.037736</td>\n",
       "      <td>0.566038</td>\n",
       "    </tr>\n",
       "    <tr>\n",
       "      <th>3</th>\n",
       "      <td>-0.911425</td>\n",
       "      <td>-1.225280</td>\n",
       "      <td>0.389147</td>\n",
       "      <td>-0.827815</td>\n",
       "      <td>0.585846</td>\n",
       "      <td>0.425488</td>\n",
       "      <td>-0.321073</td>\n",
       "      <td>0.748988</td>\n",
       "      <td>1.683818</td>\n",
       "      <td>-2.157869</td>\n",
       "      <td>...</td>\n",
       "      <td>0.077111</td>\n",
       "      <td>-0.266695</td>\n",
       "      <td>0.176869</td>\n",
       "      <td>1.268609</td>\n",
       "      <td>-0.088934</td>\n",
       "      <td>1986.358491</td>\n",
       "      <td>0.798551</td>\n",
       "      <td>0.515713</td>\n",
       "      <td>35.037736</td>\n",
       "      <td>0.566038</td>\n",
       "    </tr>\n",
       "    <tr>\n",
       "      <th>4</th>\n",
       "      <td>0.900684</td>\n",
       "      <td>0.717202</td>\n",
       "      <td>-1.096169</td>\n",
       "      <td>0.793095</td>\n",
       "      <td>0.899659</td>\n",
       "      <td>0.343995</td>\n",
       "      <td>1.186707</td>\n",
       "      <td>-1.207808</td>\n",
       "      <td>-1.114724</td>\n",
       "      <td>-1.223352</td>\n",
       "      <td>...</td>\n",
       "      <td>0.061422</td>\n",
       "      <td>2.065003</td>\n",
       "      <td>0.305489</td>\n",
       "      <td>-0.524174</td>\n",
       "      <td>2.105599</td>\n",
       "      <td>1986.358491</td>\n",
       "      <td>0.798551</td>\n",
       "      <td>0.515713</td>\n",
       "      <td>35.037736</td>\n",
       "      <td>0.566038</td>\n",
       "    </tr>\n",
       "  </tbody>\n",
       "</table>\n",
       "<p>5 rows × 21 columns</p>\n",
       "</div>"
      ],
      "text/plain": [
       "   num__LotFrontage  num__LotArea  num__OpenPorchSF  num__MasVnrArea  \\\n",
       "0          0.144140     -0.158460         -1.096169        -0.827815   \n",
       "1          1.204764      0.612540          0.517257         1.413568   \n",
       "2         -0.556568     -0.029579         -1.096169        -0.827815   \n",
       "3         -0.911425     -1.225280          0.389147        -0.827815   \n",
       "4          0.900684      0.717202         -1.096169         0.793095   \n",
       "\n",
       "   num__BsmtFinSF1  num__GrLivArea  num__1stFlrSF  num__YearBuilt  \\\n",
       "0         0.755219       -0.922794      -0.126358        0.227176   \n",
       "1         0.902910        1.808434       0.944129       -0.783836   \n",
       "2        -1.416429       -1.038836      -0.246639        1.401254   \n",
       "3         0.585846        0.425488      -0.321073        0.748988   \n",
       "4         0.899659        0.343995       1.186707       -1.207808   \n",
       "\n",
       "   num__YearRemodAdd  num__BedroomAbvGr  ...  num__BsmtUnfSF  num__GarageArea  \\\n",
       "0          -0.873470          -2.157869  ...       -0.391317        -1.006014   \n",
       "1          -0.487465          -2.157869  ...       -0.312872         1.117159   \n",
       "2           1.683818          -1.223352  ...        0.980347        -0.551048   \n",
       "3           1.683818          -2.157869  ...        0.077111        -0.266695   \n",
       "4          -1.114724          -1.223352  ...        0.061422         2.065003   \n",
       "\n",
       "   num__GarageYrBlt  num__OverallCond  num__OverallQual          Age  \\\n",
       "0          0.205698          2.165000         -0.088934  1986.358491   \n",
       "1          0.274443         -0.524174          1.374088  1986.358491   \n",
       "2          0.125865          0.372217         -0.820445  1986.358491   \n",
       "3          0.176869          1.268609         -0.088934  1986.358491   \n",
       "4          0.305489         -0.524174          2.105599  1986.358491   \n",
       "\n",
       "   LivingLotRatio  FinishedBsmtRatio  OverallScore  HasPorch  \n",
       "0        0.798551           0.515713     35.037736  0.566038  \n",
       "1        0.798551           0.515713     35.037736  0.566038  \n",
       "2        0.798551           0.515713     35.037736  0.566038  \n",
       "3        0.798551           0.515713     35.037736  0.566038  \n",
       "4        0.798551           0.515713     35.037736  0.566038  \n",
       "\n",
       "[5 rows x 21 columns]"
      ]
     },
     "metadata": {},
     "output_type": "display_data"
    },
    {
     "name": "stdout",
     "output_type": "stream",
     "text": [
      "\n",
      "Preview of y_train:\n"
     ]
    },
    {
     "data": {
      "text/plain": [
       "0    11.884496\n",
       "1    12.089544\n",
       "2    11.350418\n",
       "3    12.072547\n",
       "4    11.751950\n",
       "Name: LogSalePrice, dtype: float64"
      ]
     },
     "metadata": {},
     "output_type": "display_data"
    },
    {
     "name": "stdout",
     "output_type": "stream",
     "text": [
      "\n",
      "Preview of y_test:\n"
     ]
    },
    {
     "data": {
      "text/plain": [
       "0    11.947949\n",
       "1    12.691580\n",
       "2    11.652687\n",
       "3    11.976659\n",
       "4    12.661914\n",
       "Name: LogSalePrice, dtype: float64"
      ]
     },
     "metadata": {},
     "output_type": "display_data"
    }
   ],
   "source": [
    "import pandas as pd\n",
    "\n",
    "# Define file paths\n",
    "train_data_path = \"outputs/datasets/processed/with_target/train_with_target.csv\"\n",
    "test_data_path = \"outputs/datasets/processed/with_target/test_with_target.csv\"\n",
    "\n",
    "# Load the datasets\n",
    "train_data = pd.read_csv(train_data_path)\n",
    "test_data = pd.read_csv(test_data_path)\n",
    "\n",
    "# Separate features and target\n",
    "x_train = train_data.drop(columns=[\"LogSalePrice\", \"SalePriceQuartile\"], errors=\"ignore\")\n",
    "y_train = train_data[\"LogSalePrice\"]\n",
    "\n",
    "x_test = test_data.drop(columns=[\"LogSalePrice\", \"SalePriceQuartile\"], errors=\"ignore\")\n",
    "y_test = test_data[\"LogSalePrice\"]\n",
    "\n",
    "# Display dataset shapes\n",
    "print(f\"x_train data shape: {x_train.shape}\")\n",
    "print(f\"x_test data shape: {x_test.shape}\")\n",
    "print(f\"y_train data shape: {y_train.shape}\")\n",
    "print(f\"y_test data shape: {y_test.shape}\")\n",
    "\n",
    "# Preview the datasets\n",
    "print(\"\\nPreview of x_train:\")\n",
    "display(x_train.head())\n",
    "\n",
    "print(\"\\nPreview of x_test:\")\n",
    "display(x_test.head())\n",
    "\n",
    "print(\"\\nPreview of y_train:\")\n",
    "display(y_train.head())\n",
    "\n",
    "print(\"\\nPreview of y_test:\")\n",
    "display(y_test.head())"
   ]
  },
  {
   "cell_type": "markdown",
   "metadata": {},
   "source": [
    "### Feature and Target Separation"
   ]
  },
  {
   "cell_type": "markdown",
   "metadata": {},
   "source": [
    "### Data Splitting (if applicable)"
   ]
  },
  {
   "cell_type": "markdown",
   "metadata": {},
   "source": [
    "---"
   ]
  },
  {
   "cell_type": "markdown",
   "metadata": {},
   "source": [
    "## Model Selection"
   ]
  },
  {
   "cell_type": "markdown",
   "metadata": {},
   "source": [
    "### Overview of Models"
   ]
  },
  {
   "cell_type": "markdown",
   "metadata": {},
   "source": [
    "### Baseline Model"
   ]
  },
  {
   "cell_type": "markdown",
   "metadata": {},
   "source": [
    "---"
   ]
  },
  {
   "cell_type": "markdown",
   "metadata": {},
   "source": [
    "## Model Training and Hyperparameter Tuning"
   ]
  },
  {
   "cell_type": "markdown",
   "metadata": {},
   "source": [
    "### Train Multiple Models"
   ]
  },
  {
   "cell_type": "markdown",
   "metadata": {},
   "source": [
    "### Hyperparameter Tuning"
   ]
  },
  {
   "cell_type": "markdown",
   "metadata": {},
   "source": [
    "---"
   ]
  },
  {
   "cell_type": "markdown",
   "metadata": {},
   "source": [
    "## Model Evaluation"
   ]
  },
  {
   "cell_type": "markdown",
   "metadata": {},
   "source": [
    "### Evaluation Metrics"
   ]
  },
  {
   "cell_type": "markdown",
   "metadata": {},
   "source": [
    "### Cross-Validation Results"
   ]
  },
  {
   "cell_type": "markdown",
   "metadata": {},
   "source": [
    "### Test Set Results"
   ]
  },
  {
   "cell_type": "markdown",
   "metadata": {},
   "source": [
    "### Residual Analysis"
   ]
  },
  {
   "cell_type": "markdown",
   "metadata": {},
   "source": [
    "### Error Analysis"
   ]
  },
  {
   "cell_type": "markdown",
   "metadata": {},
   "source": [
    "---"
   ]
  },
  {
   "cell_type": "markdown",
   "metadata": {},
   "source": [
    "## Feature Importance and Insights"
   ]
  },
  {
   "cell_type": "markdown",
   "metadata": {},
   "source": [
    "### Feature Importance"
   ]
  },
  {
   "cell_type": "markdown",
   "metadata": {},
   "source": [
    "### Key Takeaways"
   ]
  },
  {
   "cell_type": "markdown",
   "metadata": {},
   "source": [
    "---"
   ]
  },
  {
   "cell_type": "markdown",
   "metadata": {},
   "source": [
    "## Exploratory Model Analysis"
   ]
  },
  {
   "cell_type": "markdown",
   "metadata": {},
   "source": [
    "### Experimentation with Additional Models"
   ]
  },
  {
   "cell_type": "markdown",
   "metadata": {},
   "source": [
    "### Comparative Analysis"
   ]
  },
  {
   "cell_type": "markdown",
   "metadata": {},
   "source": [
    "### Model Interpretability"
   ]
  },
  {
   "cell_type": "markdown",
   "metadata": {},
   "source": [
    "---"
   ]
  },
  {
   "cell_type": "markdown",
   "metadata": {},
   "source": [
    "## Conclusion and Recommendations"
   ]
  },
  {
   "cell_type": "markdown",
   "metadata": {},
   "source": [
    "---"
   ]
  },
  {
   "cell_type": "markdown",
   "metadata": {},
   "source": [
    "## Save Outputs"
   ]
  },
  {
   "cell_type": "markdown",
   "metadata": {},
   "source": [
    "---"
   ]
  },
  {
   "cell_type": "markdown",
   "metadata": {},
   "source": [
    "## Future Improvements"
   ]
  }
 ],
 "metadata": {
  "accelerator": "GPU",
  "colab": {
   "name": "Data Practitioner Jupyter Notebook.ipynb",
   "provenance": [],
   "toc_visible": true
  },
  "kernelspec": {
   "display_name": "Python 3",
   "language": "python",
   "name": "python3"
  },
  "language_info": {
   "codemirror_mode": {
    "name": "ipython",
    "version": 3
   },
   "file_extension": ".py",
   "mimetype": "text/x-python",
   "name": "python",
   "nbconvert_exporter": "python",
   "pygments_lexer": "ipython3",
   "version": "3.8.18"
  },
  "orig_nbformat": 2
 },
 "nbformat": 4,
 "nbformat_minor": 2
}
