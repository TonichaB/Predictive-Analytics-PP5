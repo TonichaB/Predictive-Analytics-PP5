{
 "cells": [
  {
   "cell_type": "markdown",
   "metadata": {
    "id": "0aStgWSO0E0E"
   },
   "source": [
    "# **Notebook 5: Model Training and Evaluation**"
   ]
  },
  {
   "cell_type": "markdown",
   "metadata": {
    "id": "1eLEkw5O0ECa"
   },
   "source": [
    "## Objectives\n",
    "\n",
    "The primary objective of this notebook is to develop, evaluate, and select the best-performing machine learning model(s) to predict house sale prices in Ames, Iowa. This involves training models on the processed datasets, fine-uning their hyperparameters, and assessing their performance based on defined metrics.\n",
    "\n",
    "## Inputs\n",
    "\n",
    "* **Training Dataset with Target (`train_with_target.csv`):** Includes processed features and the log-transformed target variable (`LogSalePrice`) for model training.\n",
    "* **Testing Dataset with Target (`test_with_target.csv`):** Includes processed features and the log-transformed target variable (`LogSalePrice`) for model evaluation.\n",
    "* **Key Feature Correlations (`key_drivers_correlation.csv`):** Identified the most impactful features influencing the target variable.\n",
    "\n",
    "## Outputs\n",
    "\n",
    "* **Trained Models:** Serialized versions of trained models saved for deployment.\n",
    "* **Evaluation Metrics:** Metrics like R2, Mean Absolute Error (MAE), Mean Squared Error (MSE), and Root Mean Squared Error (RMSE) for model comparison.\n",
    "* **Feature Importances:** Insights into which features contributed most to model predictions.\n",
    "* **Model Performance Report:** Comprehensive report summarizing model performance and insights.\n",
    "\n",
    "## Additional Comments\n",
    "\n",
    "* The notebook is structured to ensure modularity, allowing for easy updates or experimentation with different models or preprocessing steps.\n",
    "* Exploratory insights gained in the previous notebook will inform feature selection and preprocessing strategies.\n",
    "* Advanced modeling techniques, such as hyperparameter optimization and ensemble learning, will be considered for improving accuracy.\n"
   ]
  },
  {
   "cell_type": "markdown",
   "metadata": {
    "id": "9uWZXH9LwoQg"
   },
   "source": [
    "---"
   ]
  },
  {
   "cell_type": "markdown",
   "metadata": {
    "id": "cqP-UeN-z3i2"
   },
   "source": [
    "## Change working directory"
   ]
  },
  {
   "cell_type": "markdown",
   "metadata": {},
   "source": [
    "* We are assuming you will store the notebooks in a subfolder, therefore when running the notebook in the editor, you will need to change the working directory"
   ]
  },
  {
   "cell_type": "markdown",
   "metadata": {
    "id": "aOGIGS-uz3i2"
   },
   "source": [
    "We need to change the working directory from its current folder to its parent folder\n",
    "* We access the current directory with os.getcwd()"
   ]
  },
  {
   "cell_type": "code",
   "execution_count": 1,
   "metadata": {
    "id": "wZfF_j-Bz3i4",
    "outputId": "66943449-1436-4c3d-85c7-b85f9f78349b"
   },
   "outputs": [
    {
     "data": {
      "text/plain": [
       "'/workspace/Predictive-Analytics-PP5/jupyter_notebooks'"
      ]
     },
     "execution_count": 1,
     "metadata": {},
     "output_type": "execute_result"
    }
   ],
   "source": [
    "import os\n",
    "current_dir = os.getcwd()\n",
    "current_dir"
   ]
  },
  {
   "cell_type": "markdown",
   "metadata": {
    "id": "9MWW8E7lz3i7"
   },
   "source": [
    "We want to make the parent of the current directory the new current directory\n",
    "* os.path.dirname() gets the parent directory\n",
    "* os.chir() defines the new current directory"
   ]
  },
  {
   "cell_type": "code",
   "execution_count": 2,
   "metadata": {
    "id": "TwHsQRWjz3i9",
    "outputId": "86849db3-cd2f-4cc5-ebb8-2d0caafa1a2c"
   },
   "outputs": [
    {
     "name": "stdout",
     "output_type": "stream",
     "text": [
      "You set a new current directory\n"
     ]
    }
   ],
   "source": [
    "os.chdir(os.path.dirname(current_dir))\n",
    "print(\"You set a new current directory\")"
   ]
  },
  {
   "cell_type": "markdown",
   "metadata": {
    "id": "M_xPk_Ijz3i-"
   },
   "source": [
    "Confirm the new current directory"
   ]
  },
  {
   "cell_type": "code",
   "execution_count": 3,
   "metadata": {
    "id": "vz3S-_kjz3jA",
    "outputId": "00b79ae4-75d0-4a96-d193-ac9ef9847ea2"
   },
   "outputs": [
    {
     "data": {
      "text/plain": [
       "'/workspace/Predictive-Analytics-PP5'"
      ]
     },
     "execution_count": 3,
     "metadata": {},
     "output_type": "execute_result"
    }
   ],
   "source": [
    "current_dir = os.getcwd()\n",
    "current_dir"
   ]
  },
  {
   "cell_type": "markdown",
   "metadata": {},
   "source": [
    "---"
   ]
  },
  {
   "cell_type": "markdown",
   "metadata": {},
   "source": [
    "## Data Preparation"
   ]
  },
  {
   "cell_type": "markdown",
   "metadata": {},
   "source": [
    "### Load Processed Data\n",
    "\n",
    "**Objective:** Load the preprocessed datasets required for model training and evaluation.\n",
    "\n",
    "**Inputs:**\n",
    "- `train_with_target.csv` and `test_with_target.csv` files containing the processed training and testing datasets with the target variable included."
   ]
  },
  {
   "cell_type": "code",
   "execution_count": 8,
   "metadata": {},
   "outputs": [
    {
     "name": "stdout",
     "output_type": "stream",
     "text": [
      "Training Dataset Info:\n",
      "<class 'pandas.core.frame.DataFrame'>\n",
      "RangeIndex: 1168 entries, 0 to 1167\n",
      "Data columns (total 23 columns):\n",
      " #   Column                  Non-Null Count  Dtype  \n",
      "---  ------                  --------------  -----  \n",
      " 0   num__LotFrontage        1168 non-null   float64\n",
      " 1   num__LotArea            1168 non-null   float64\n",
      " 2   num__OpenPorchSF        1168 non-null   float64\n",
      " 3   num__MasVnrArea         1168 non-null   float64\n",
      " 4   num__BsmtFinSF1         1168 non-null   float64\n",
      " 5   num__GrLivArea          1168 non-null   float64\n",
      " 6   num__1stFlrSF           1168 non-null   float64\n",
      " 7   num__YearBuilt          1168 non-null   float64\n",
      " 8   num__YearRemodAdd       1168 non-null   float64\n",
      " 9   num__BedroomAbvGr       1168 non-null   float64\n",
      " 10  num__2ndFlrSF           1168 non-null   float64\n",
      " 11  num__BsmtUnfSF          1168 non-null   float64\n",
      " 12  num__GarageArea         1168 non-null   float64\n",
      " 13  num__GarageYrBlt        1168 non-null   float64\n",
      " 14  num__OverallCond        1168 non-null   float64\n",
      " 15  num__OverallQual        1168 non-null   float64\n",
      " 16  num__Age                1168 non-null   float64\n",
      " 17  num__LivingLotRatio     1168 non-null   float64\n",
      " 18  num__FinishedBsmtRatio  1168 non-null   float64\n",
      " 19  num__OverallScore       1168 non-null   float64\n",
      " 20  cat__HasPorch_1         1168 non-null   float64\n",
      " 21  LogSalePrice            1168 non-null   float64\n",
      " 22  SalePriceQuartile       1168 non-null   object \n",
      "dtypes: float64(22), object(1)\n",
      "memory usage: 210.0+ KB\n",
      "None\n",
      "\n",
      "Testing Dataset Info:\n",
      "<class 'pandas.core.frame.DataFrame'>\n",
      "RangeIndex: 292 entries, 0 to 291\n",
      "Data columns (total 22 columns):\n",
      " #   Column             Non-Null Count  Dtype  \n",
      "---  ------             --------------  -----  \n",
      " 0   num__LotFrontage   292 non-null    float64\n",
      " 1   num__LotArea       292 non-null    float64\n",
      " 2   num__OpenPorchSF   292 non-null    float64\n",
      " 3   num__MasVnrArea    292 non-null    float64\n",
      " 4   num__BsmtFinSF1    292 non-null    float64\n",
      " 5   num__GrLivArea     292 non-null    float64\n",
      " 6   num__1stFlrSF      292 non-null    float64\n",
      " 7   num__YearBuilt     292 non-null    float64\n",
      " 8   num__YearRemodAdd  292 non-null    float64\n",
      " 9   num__BedroomAbvGr  292 non-null    float64\n",
      " 10  num__2ndFlrSF      292 non-null    float64\n",
      " 11  num__BsmtUnfSF     292 non-null    float64\n",
      " 12  num__GarageArea    292 non-null    float64\n",
      " 13  num__GarageYrBlt   292 non-null    float64\n",
      " 14  num__OverallCond   292 non-null    float64\n",
      " 15  num__OverallQual   292 non-null    float64\n",
      " 16  Age                292 non-null    float64\n",
      " 17  LivingLotRatio     292 non-null    float64\n",
      " 18  FinishedBsmtRatio  292 non-null    float64\n",
      " 19  OverallScore       292 non-null    float64\n",
      " 20  HasPorch           292 non-null    float64\n",
      " 21  LogSalePrice       292 non-null    float64\n",
      "dtypes: float64(22)\n",
      "memory usage: 50.3 KB\n",
      "None\n",
      "\n",
      "Preview of Training Dataset:\n"
     ]
    },
    {
     "data": {
      "text/html": [
       "<div>\n",
       "<style scoped>\n",
       "    .dataframe tbody tr th:only-of-type {\n",
       "        vertical-align: middle;\n",
       "    }\n",
       "\n",
       "    .dataframe tbody tr th {\n",
       "        vertical-align: top;\n",
       "    }\n",
       "\n",
       "    .dataframe thead th {\n",
       "        text-align: right;\n",
       "    }\n",
       "</style>\n",
       "<table border=\"1\" class=\"dataframe\">\n",
       "  <thead>\n",
       "    <tr style=\"text-align: right;\">\n",
       "      <th></th>\n",
       "      <th>num__LotFrontage</th>\n",
       "      <th>num__LotArea</th>\n",
       "      <th>num__OpenPorchSF</th>\n",
       "      <th>num__MasVnrArea</th>\n",
       "      <th>num__BsmtFinSF1</th>\n",
       "      <th>num__GrLivArea</th>\n",
       "      <th>num__1stFlrSF</th>\n",
       "      <th>num__YearBuilt</th>\n",
       "      <th>num__YearRemodAdd</th>\n",
       "      <th>num__BedroomAbvGr</th>\n",
       "      <th>...</th>\n",
       "      <th>num__GarageYrBlt</th>\n",
       "      <th>num__OverallCond</th>\n",
       "      <th>num__OverallQual</th>\n",
       "      <th>num__Age</th>\n",
       "      <th>num__LivingLotRatio</th>\n",
       "      <th>num__FinishedBsmtRatio</th>\n",
       "      <th>num__OverallScore</th>\n",
       "      <th>cat__HasPorch_1</th>\n",
       "      <th>LogSalePrice</th>\n",
       "      <th>SalePriceQuartile</th>\n",
       "    </tr>\n",
       "  </thead>\n",
       "  <tbody>\n",
       "    <tr>\n",
       "      <th>0</th>\n",
       "      <td>0.144140</td>\n",
       "      <td>-0.161873</td>\n",
       "      <td>-1.096169</td>\n",
       "      <td>-0.827815</td>\n",
       "      <td>0.865283</td>\n",
       "      <td>-0.292584</td>\n",
       "      <td>0.526873</td>\n",
       "      <td>0.455469</td>\n",
       "      <td>1.346063</td>\n",
       "      <td>-0.288836</td>\n",
       "      <td>...</td>\n",
       "      <td>0.192392</td>\n",
       "      <td>0.372217</td>\n",
       "      <td>-0.820445</td>\n",
       "      <td>-0.455469</td>\n",
       "      <td>-0.116096</td>\n",
       "      <td>0.887733</td>\n",
       "      <td>-0.437833</td>\n",
       "      <td>0.0</td>\n",
       "      <td>11.884496</td>\n",
       "      <td>Q2</td>\n",
       "    </tr>\n",
       "    <tr>\n",
       "      <th>1</th>\n",
       "      <td>-0.392921</td>\n",
       "      <td>-0.304082</td>\n",
       "      <td>0.617419</td>\n",
       "      <td>-0.827815</td>\n",
       "      <td>-1.416429</td>\n",
       "      <td>0.250597</td>\n",
       "      <td>-1.040595</td>\n",
       "      <td>-0.718609</td>\n",
       "      <td>-0.439214</td>\n",
       "      <td>-0.288836</td>\n",
       "      <td>...</td>\n",
       "      <td>0.272225</td>\n",
       "      <td>1.268609</td>\n",
       "      <td>-0.088934</td>\n",
       "      <td>0.718609</td>\n",
       "      <td>0.455054</td>\n",
       "      <td>-1.415946</td>\n",
       "      <td>0.858190</td>\n",
       "      <td>1.0</td>\n",
       "      <td>12.089544</td>\n",
       "      <td>Q3</td>\n",
       "    </tr>\n",
       "    <tr>\n",
       "      <th>2</th>\n",
       "      <td>0.006402</td>\n",
       "      <td>-0.071879</td>\n",
       "      <td>-1.096169</td>\n",
       "      <td>-0.827815</td>\n",
       "      <td>-1.416429</td>\n",
       "      <td>-1.816242</td>\n",
       "      <td>-1.052445</td>\n",
       "      <td>1.988293</td>\n",
       "      <td>1.683818</td>\n",
       "      <td>0.645680</td>\n",
       "      <td>...</td>\n",
       "      <td>-4.147410</td>\n",
       "      <td>1.268609</td>\n",
       "      <td>-0.820445</td>\n",
       "      <td>-1.988293</td>\n",
       "      <td>-1.409123</td>\n",
       "      <td>-1.415946</td>\n",
       "      <td>0.102176</td>\n",
       "      <td>0.0</td>\n",
       "      <td>11.350418</td>\n",
       "      <td>Q1 (Low)</td>\n",
       "    </tr>\n",
       "    <tr>\n",
       "      <th>3</th>\n",
       "      <td>-0.340186</td>\n",
       "      <td>-0.477855</td>\n",
       "      <td>-1.096169</td>\n",
       "      <td>1.276291</td>\n",
       "      <td>0.704206</td>\n",
       "      <td>0.609851</td>\n",
       "      <td>-0.394093</td>\n",
       "      <td>1.107734</td>\n",
       "      <td>1.683818</td>\n",
       "      <td>-0.288836</td>\n",
       "      <td>...</td>\n",
       "      <td>0.152476</td>\n",
       "      <td>1.268609</td>\n",
       "      <td>-0.820445</td>\n",
       "      <td>-1.107734</td>\n",
       "      <td>0.918129</td>\n",
       "      <td>0.640194</td>\n",
       "      <td>0.102176</td>\n",
       "      <td>0.0</td>\n",
       "      <td>12.072547</td>\n",
       "      <td>Q3</td>\n",
       "    </tr>\n",
       "    <tr>\n",
       "      <th>4</th>\n",
       "      <td>-0.911425</td>\n",
       "      <td>-1.225280</td>\n",
       "      <td>-1.096169</td>\n",
       "      <td>-0.827815</td>\n",
       "      <td>0.384534</td>\n",
       "      <td>0.474436</td>\n",
       "      <td>-0.252776</td>\n",
       "      <td>1.531707</td>\n",
       "      <td>1.683818</td>\n",
       "      <td>-0.288836</td>\n",
       "      <td>...</td>\n",
       "      <td>0.119212</td>\n",
       "      <td>0.372217</td>\n",
       "      <td>-0.820445</td>\n",
       "      <td>-1.531707</td>\n",
       "      <td>1.593562</td>\n",
       "      <td>0.340697</td>\n",
       "      <td>-0.437833</td>\n",
       "      <td>0.0</td>\n",
       "      <td>11.751950</td>\n",
       "      <td>Q1 (Low)</td>\n",
       "    </tr>\n",
       "  </tbody>\n",
       "</table>\n",
       "<p>5 rows × 23 columns</p>\n",
       "</div>"
      ],
      "text/plain": [
       "   num__LotFrontage  num__LotArea  num__OpenPorchSF  num__MasVnrArea  \\\n",
       "0          0.144140     -0.161873         -1.096169        -0.827815   \n",
       "1         -0.392921     -0.304082          0.617419        -0.827815   \n",
       "2          0.006402     -0.071879         -1.096169        -0.827815   \n",
       "3         -0.340186     -0.477855         -1.096169         1.276291   \n",
       "4         -0.911425     -1.225280         -1.096169        -0.827815   \n",
       "\n",
       "   num__BsmtFinSF1  num__GrLivArea  num__1stFlrSF  num__YearBuilt  \\\n",
       "0         0.865283       -0.292584       0.526873        0.455469   \n",
       "1        -1.416429        0.250597      -1.040595       -0.718609   \n",
       "2        -1.416429       -1.816242      -1.052445        1.988293   \n",
       "3         0.704206        0.609851      -0.394093        1.107734   \n",
       "4         0.384534        0.474436      -0.252776        1.531707   \n",
       "\n",
       "   num__YearRemodAdd  num__BedroomAbvGr  ...  num__GarageYrBlt  \\\n",
       "0           1.346063          -0.288836  ...          0.192392   \n",
       "1          -0.439214          -0.288836  ...          0.272225   \n",
       "2           1.683818           0.645680  ...         -4.147410   \n",
       "3           1.683818          -0.288836  ...          0.152476   \n",
       "4           1.683818          -0.288836  ...          0.119212   \n",
       "\n",
       "   num__OverallCond  num__OverallQual  num__Age  num__LivingLotRatio  \\\n",
       "0          0.372217         -0.820445 -0.455469            -0.116096   \n",
       "1          1.268609         -0.088934  0.718609             0.455054   \n",
       "2          1.268609         -0.820445 -1.988293            -1.409123   \n",
       "3          1.268609         -0.820445 -1.107734             0.918129   \n",
       "4          0.372217         -0.820445 -1.531707             1.593562   \n",
       "\n",
       "   num__FinishedBsmtRatio  num__OverallScore  cat__HasPorch_1  LogSalePrice  \\\n",
       "0                0.887733          -0.437833              0.0     11.884496   \n",
       "1               -1.415946           0.858190              1.0     12.089544   \n",
       "2               -1.415946           0.102176              0.0     11.350418   \n",
       "3                0.640194           0.102176              0.0     12.072547   \n",
       "4                0.340697          -0.437833              0.0     11.751950   \n",
       "\n",
       "   SalePriceQuartile  \n",
       "0                 Q2  \n",
       "1                 Q3  \n",
       "2           Q1 (Low)  \n",
       "3                 Q3  \n",
       "4           Q1 (Low)  \n",
       "\n",
       "[5 rows x 23 columns]"
      ]
     },
     "metadata": {},
     "output_type": "display_data"
    },
    {
     "name": "stdout",
     "output_type": "stream",
     "text": [
      "\n",
      "Preview of Testing Dataset:\n"
     ]
    },
    {
     "data": {
      "text/html": [
       "<div>\n",
       "<style scoped>\n",
       "    .dataframe tbody tr th:only-of-type {\n",
       "        vertical-align: middle;\n",
       "    }\n",
       "\n",
       "    .dataframe tbody tr th {\n",
       "        vertical-align: top;\n",
       "    }\n",
       "\n",
       "    .dataframe thead th {\n",
       "        text-align: right;\n",
       "    }\n",
       "</style>\n",
       "<table border=\"1\" class=\"dataframe\">\n",
       "  <thead>\n",
       "    <tr style=\"text-align: right;\">\n",
       "      <th></th>\n",
       "      <th>num__LotFrontage</th>\n",
       "      <th>num__LotArea</th>\n",
       "      <th>num__OpenPorchSF</th>\n",
       "      <th>num__MasVnrArea</th>\n",
       "      <th>num__BsmtFinSF1</th>\n",
       "      <th>num__GrLivArea</th>\n",
       "      <th>num__1stFlrSF</th>\n",
       "      <th>num__YearBuilt</th>\n",
       "      <th>num__YearRemodAdd</th>\n",
       "      <th>num__BedroomAbvGr</th>\n",
       "      <th>...</th>\n",
       "      <th>num__GarageArea</th>\n",
       "      <th>num__GarageYrBlt</th>\n",
       "      <th>num__OverallCond</th>\n",
       "      <th>num__OverallQual</th>\n",
       "      <th>Age</th>\n",
       "      <th>LivingLotRatio</th>\n",
       "      <th>FinishedBsmtRatio</th>\n",
       "      <th>OverallScore</th>\n",
       "      <th>HasPorch</th>\n",
       "      <th>LogSalePrice</th>\n",
       "    </tr>\n",
       "  </thead>\n",
       "  <tbody>\n",
       "    <tr>\n",
       "      <th>0</th>\n",
       "      <td>0.144140</td>\n",
       "      <td>-0.158460</td>\n",
       "      <td>-1.096169</td>\n",
       "      <td>-0.827815</td>\n",
       "      <td>0.755219</td>\n",
       "      <td>-0.922794</td>\n",
       "      <td>-0.126358</td>\n",
       "      <td>0.227176</td>\n",
       "      <td>-0.873470</td>\n",
       "      <td>-2.157869</td>\n",
       "      <td>...</td>\n",
       "      <td>-1.006014</td>\n",
       "      <td>0.205698</td>\n",
       "      <td>2.165000</td>\n",
       "      <td>-0.088934</td>\n",
       "      <td>1986.358491</td>\n",
       "      <td>0.798551</td>\n",
       "      <td>0.515713</td>\n",
       "      <td>35.037736</td>\n",
       "      <td>0.566038</td>\n",
       "      <td>11.947949</td>\n",
       "    </tr>\n",
       "    <tr>\n",
       "      <th>1</th>\n",
       "      <td>1.204764</td>\n",
       "      <td>0.612540</td>\n",
       "      <td>0.517257</td>\n",
       "      <td>1.413568</td>\n",
       "      <td>0.902910</td>\n",
       "      <td>1.808434</td>\n",
       "      <td>0.944129</td>\n",
       "      <td>-0.783836</td>\n",
       "      <td>-0.487465</td>\n",
       "      <td>-2.157869</td>\n",
       "      <td>...</td>\n",
       "      <td>1.117159</td>\n",
       "      <td>0.274443</td>\n",
       "      <td>-0.524174</td>\n",
       "      <td>1.374088</td>\n",
       "      <td>1986.358491</td>\n",
       "      <td>0.798551</td>\n",
       "      <td>0.515713</td>\n",
       "      <td>35.037736</td>\n",
       "      <td>0.566038</td>\n",
       "      <td>12.691580</td>\n",
       "    </tr>\n",
       "    <tr>\n",
       "      <th>2</th>\n",
       "      <td>-0.556568</td>\n",
       "      <td>-0.029579</td>\n",
       "      <td>-1.096169</td>\n",
       "      <td>-0.827815</td>\n",
       "      <td>-1.416429</td>\n",
       "      <td>-1.038836</td>\n",
       "      <td>-0.246639</td>\n",
       "      <td>1.401254</td>\n",
       "      <td>1.683818</td>\n",
       "      <td>-1.223352</td>\n",
       "      <td>...</td>\n",
       "      <td>-0.551048</td>\n",
       "      <td>0.125865</td>\n",
       "      <td>0.372217</td>\n",
       "      <td>-0.820445</td>\n",
       "      <td>1986.358491</td>\n",
       "      <td>0.798551</td>\n",
       "      <td>0.515713</td>\n",
       "      <td>35.037736</td>\n",
       "      <td>0.566038</td>\n",
       "      <td>11.652687</td>\n",
       "    </tr>\n",
       "    <tr>\n",
       "      <th>3</th>\n",
       "      <td>-0.911425</td>\n",
       "      <td>-1.225280</td>\n",
       "      <td>0.389147</td>\n",
       "      <td>-0.827815</td>\n",
       "      <td>0.585846</td>\n",
       "      <td>0.425488</td>\n",
       "      <td>-0.321073</td>\n",
       "      <td>0.748988</td>\n",
       "      <td>1.683818</td>\n",
       "      <td>-2.157869</td>\n",
       "      <td>...</td>\n",
       "      <td>-0.266695</td>\n",
       "      <td>0.176869</td>\n",
       "      <td>1.268609</td>\n",
       "      <td>-0.088934</td>\n",
       "      <td>1986.358491</td>\n",
       "      <td>0.798551</td>\n",
       "      <td>0.515713</td>\n",
       "      <td>35.037736</td>\n",
       "      <td>0.566038</td>\n",
       "      <td>11.976659</td>\n",
       "    </tr>\n",
       "    <tr>\n",
       "      <th>4</th>\n",
       "      <td>0.900684</td>\n",
       "      <td>0.717202</td>\n",
       "      <td>-1.096169</td>\n",
       "      <td>0.793095</td>\n",
       "      <td>0.899659</td>\n",
       "      <td>0.343995</td>\n",
       "      <td>1.186707</td>\n",
       "      <td>-1.207808</td>\n",
       "      <td>-1.114724</td>\n",
       "      <td>-1.223352</td>\n",
       "      <td>...</td>\n",
       "      <td>2.065003</td>\n",
       "      <td>0.305489</td>\n",
       "      <td>-0.524174</td>\n",
       "      <td>2.105599</td>\n",
       "      <td>1986.358491</td>\n",
       "      <td>0.798551</td>\n",
       "      <td>0.515713</td>\n",
       "      <td>35.037736</td>\n",
       "      <td>0.566038</td>\n",
       "      <td>12.661914</td>\n",
       "    </tr>\n",
       "  </tbody>\n",
       "</table>\n",
       "<p>5 rows × 22 columns</p>\n",
       "</div>"
      ],
      "text/plain": [
       "   num__LotFrontage  num__LotArea  num__OpenPorchSF  num__MasVnrArea  \\\n",
       "0          0.144140     -0.158460         -1.096169        -0.827815   \n",
       "1          1.204764      0.612540          0.517257         1.413568   \n",
       "2         -0.556568     -0.029579         -1.096169        -0.827815   \n",
       "3         -0.911425     -1.225280          0.389147        -0.827815   \n",
       "4          0.900684      0.717202         -1.096169         0.793095   \n",
       "\n",
       "   num__BsmtFinSF1  num__GrLivArea  num__1stFlrSF  num__YearBuilt  \\\n",
       "0         0.755219       -0.922794      -0.126358        0.227176   \n",
       "1         0.902910        1.808434       0.944129       -0.783836   \n",
       "2        -1.416429       -1.038836      -0.246639        1.401254   \n",
       "3         0.585846        0.425488      -0.321073        0.748988   \n",
       "4         0.899659        0.343995       1.186707       -1.207808   \n",
       "\n",
       "   num__YearRemodAdd  num__BedroomAbvGr  ...  num__GarageArea  \\\n",
       "0          -0.873470          -2.157869  ...        -1.006014   \n",
       "1          -0.487465          -2.157869  ...         1.117159   \n",
       "2           1.683818          -1.223352  ...        -0.551048   \n",
       "3           1.683818          -2.157869  ...        -0.266695   \n",
       "4          -1.114724          -1.223352  ...         2.065003   \n",
       "\n",
       "   num__GarageYrBlt  num__OverallCond  num__OverallQual          Age  \\\n",
       "0          0.205698          2.165000         -0.088934  1986.358491   \n",
       "1          0.274443         -0.524174          1.374088  1986.358491   \n",
       "2          0.125865          0.372217         -0.820445  1986.358491   \n",
       "3          0.176869          1.268609         -0.088934  1986.358491   \n",
       "4          0.305489         -0.524174          2.105599  1986.358491   \n",
       "\n",
       "   LivingLotRatio  FinishedBsmtRatio  OverallScore  HasPorch  LogSalePrice  \n",
       "0        0.798551           0.515713     35.037736  0.566038     11.947949  \n",
       "1        0.798551           0.515713     35.037736  0.566038     12.691580  \n",
       "2        0.798551           0.515713     35.037736  0.566038     11.652687  \n",
       "3        0.798551           0.515713     35.037736  0.566038     11.976659  \n",
       "4        0.798551           0.515713     35.037736  0.566038     12.661914  \n",
       "\n",
       "[5 rows x 22 columns]"
      ]
     },
     "metadata": {},
     "output_type": "display_data"
    },
    {
     "name": "stdout",
     "output_type": "stream",
     "text": [
      "\n",
      "Checking for missing values in training data:\n",
      "num__LotFrontage          0\n",
      "num__LotArea              0\n",
      "num__OpenPorchSF          0\n",
      "num__MasVnrArea           0\n",
      "num__BsmtFinSF1           0\n",
      "num__GrLivArea            0\n",
      "num__1stFlrSF             0\n",
      "num__YearBuilt            0\n",
      "num__YearRemodAdd         0\n",
      "num__BedroomAbvGr         0\n",
      "num__2ndFlrSF             0\n",
      "num__BsmtUnfSF            0\n",
      "num__GarageArea           0\n",
      "num__GarageYrBlt          0\n",
      "num__OverallCond          0\n",
      "num__OverallQual          0\n",
      "num__Age                  0\n",
      "num__LivingLotRatio       0\n",
      "num__FinishedBsmtRatio    0\n",
      "num__OverallScore         0\n",
      "cat__HasPorch_1           0\n",
      "LogSalePrice              0\n",
      "SalePriceQuartile         0\n",
      "dtype: int64\n",
      "\n",
      "Checking for missing values in testing data:\n",
      "num__LotFrontage     0\n",
      "num__LotArea         0\n",
      "num__OpenPorchSF     0\n",
      "num__MasVnrArea      0\n",
      "num__BsmtFinSF1      0\n",
      "num__GrLivArea       0\n",
      "num__1stFlrSF        0\n",
      "num__YearBuilt       0\n",
      "num__YearRemodAdd    0\n",
      "num__BedroomAbvGr    0\n",
      "num__2ndFlrSF        0\n",
      "num__BsmtUnfSF       0\n",
      "num__GarageArea      0\n",
      "num__GarageYrBlt     0\n",
      "num__OverallCond     0\n",
      "num__OverallQual     0\n",
      "Age                  0\n",
      "LivingLotRatio       0\n",
      "FinishedBsmtRatio    0\n",
      "OverallScore         0\n",
      "HasPorch             0\n",
      "LogSalePrice         0\n",
      "dtype: int64\n"
     ]
    }
   ],
   "source": [
    "import pandas as pd\n",
    "\n",
    "# Define file paths\n",
    "train_data_path = \"outputs/datasets/processed/with_target/train_with_target.csv\"\n",
    "test_data_path = \"outputs/datasets/processed/with_target/test_with_target.csv\"\n",
    "\n",
    "# Load the datasets\n",
    "train_data = pd.read_csv(train_data_path)\n",
    "test_data = pd.read_csv(test_data_path)\n",
    "\n",
    "# Display dataset shapes\n",
    "print(\"Training Dataset Info:\")\n",
    "print(train_data.info())\n",
    "print(\"\\nTesting Dataset Info:\")\n",
    "print(test_data.info())\n",
    "\n",
    "# Preview the datasets\n",
    "print(\"\\nPreview of Training Dataset:\")\n",
    "display(train_data.head())\n",
    "\n",
    "print(\"\\nPreview of Testing Dataset:\")\n",
    "display(test_data.head())\n",
    "\n",
    "# Check for missing values\n",
    "print(\"\\nChecking for missing values in training data:\")\n",
    "print(train_data.isnull().sum())\n",
    "\n",
    "print(\"\\nChecking for missing values in testing data:\")\n",
    "print(test_data.isnull().sum())"
   ]
  },
  {
   "cell_type": "markdown",
   "metadata": {},
   "source": [
    "### Feature and Target Separation\n",
    "\n",
    "**Objectives:**\n",
    "To separate the features (`x`) and the target variable (`y`) for both training and testing datasets. This step is essential to prepare the data for model training and evaluation.\n",
    "\n",
    "**Steps:**\n",
    "1. Define `x_train`, `x_test`, `y_train`, and `y_test` to clearly separate features and target variables.\n",
    "2. Ensure consistency in column selection across training and testing datasets.\n",
    "3. Confirm that the target variable (`LogSalePrice`) is correctly assigned to `y_train` and `y_test`.\n",
    "\n",
    "**Expected Outputs:**\n",
    "- `x_train` and `x_test` contain only feature columns, excluding the target variable (`LogSalePrice`).\n",
    "- `y_train` and `y_test` contain only the target variable."
   ]
  },
  {
   "cell_type": "code",
   "execution_count": 10,
   "metadata": {},
   "outputs": [
    {
     "name": "stdout",
     "output_type": "stream",
     "text": [
      "Training Features Dataset Info:\n",
      "<class 'pandas.core.frame.DataFrame'>\n",
      "RangeIndex: 1168 entries, 0 to 1167\n",
      "Data columns (total 21 columns):\n",
      " #   Column                  Non-Null Count  Dtype  \n",
      "---  ------                  --------------  -----  \n",
      " 0   num__LotFrontage        1168 non-null   float64\n",
      " 1   num__LotArea            1168 non-null   float64\n",
      " 2   num__OpenPorchSF        1168 non-null   float64\n",
      " 3   num__MasVnrArea         1168 non-null   float64\n",
      " 4   num__BsmtFinSF1         1168 non-null   float64\n",
      " 5   num__GrLivArea          1168 non-null   float64\n",
      " 6   num__1stFlrSF           1168 non-null   float64\n",
      " 7   num__YearBuilt          1168 non-null   float64\n",
      " 8   num__YearRemodAdd       1168 non-null   float64\n",
      " 9   num__BedroomAbvGr       1168 non-null   float64\n",
      " 10  num__2ndFlrSF           1168 non-null   float64\n",
      " 11  num__BsmtUnfSF          1168 non-null   float64\n",
      " 12  num__GarageArea         1168 non-null   float64\n",
      " 13  num__GarageYrBlt        1168 non-null   float64\n",
      " 14  num__OverallCond        1168 non-null   float64\n",
      " 15  num__OverallQual        1168 non-null   float64\n",
      " 16  num__Age                1168 non-null   float64\n",
      " 17  num__LivingLotRatio     1168 non-null   float64\n",
      " 18  num__FinishedBsmtRatio  1168 non-null   float64\n",
      " 19  num__OverallScore       1168 non-null   float64\n",
      " 20  cat__HasPorch_1         1168 non-null   float64\n",
      "dtypes: float64(21)\n",
      "memory usage: 191.8 KB\n",
      "None\n",
      "\n",
      "Training Target Dataset Info:\n",
      "count    1168.000000\n",
      "mean       12.030658\n",
      "std         0.390606\n",
      "min        10.460271\n",
      "25%        11.775297\n",
      "50%        12.013707\n",
      "75%        12.278049\n",
      "max        13.521141\n",
      "Name: LogSalePrice, dtype: float64\n",
      "\n",
      "Testing Features Dataset Info:\n",
      "<class 'pandas.core.frame.DataFrame'>\n",
      "RangeIndex: 292 entries, 0 to 291\n",
      "Data columns (total 21 columns):\n",
      " #   Column             Non-Null Count  Dtype  \n",
      "---  ------             --------------  -----  \n",
      " 0   num__LotFrontage   292 non-null    float64\n",
      " 1   num__LotArea       292 non-null    float64\n",
      " 2   num__OpenPorchSF   292 non-null    float64\n",
      " 3   num__MasVnrArea    292 non-null    float64\n",
      " 4   num__BsmtFinSF1    292 non-null    float64\n",
      " 5   num__GrLivArea     292 non-null    float64\n",
      " 6   num__1stFlrSF      292 non-null    float64\n",
      " 7   num__YearBuilt     292 non-null    float64\n",
      " 8   num__YearRemodAdd  292 non-null    float64\n",
      " 9   num__BedroomAbvGr  292 non-null    float64\n",
      " 10  num__2ndFlrSF      292 non-null    float64\n",
      " 11  num__BsmtUnfSF     292 non-null    float64\n",
      " 12  num__GarageArea    292 non-null    float64\n",
      " 13  num__GarageYrBlt   292 non-null    float64\n",
      " 14  num__OverallCond   292 non-null    float64\n",
      " 15  num__OverallQual   292 non-null    float64\n",
      " 16  Age                292 non-null    float64\n",
      " 17  LivingLotRatio     292 non-null    float64\n",
      " 18  FinishedBsmtRatio  292 non-null    float64\n",
      " 19  OverallScore       292 non-null    float64\n",
      " 20  HasPorch           292 non-null    float64\n",
      "dtypes: float64(21)\n",
      "memory usage: 48.0 KB\n",
      "None\n",
      "\n",
      "Testing Target Dataset Info:\n",
      "count    292.000000\n",
      "mean      11.997647\n",
      "std        0.432729\n",
      "min       10.471950\n",
      "25%       11.751942\n",
      "50%       11.945681\n",
      "75%       12.250924\n",
      "max       13.534473\n",
      "Name: LogSalePrice, dtype: float64\n",
      "\n",
      "Preview of Training Features Dataset:\n",
      "   num__LotFrontage  num__LotArea  num__OpenPorchSF  num__MasVnrArea  \\\n",
      "0          0.144140     -0.161873         -1.096169        -0.827815   \n",
      "1         -0.392921     -0.304082          0.617419        -0.827815   \n",
      "2          0.006402     -0.071879         -1.096169        -0.827815   \n",
      "3         -0.340186     -0.477855         -1.096169         1.276291   \n",
      "4         -0.911425     -1.225280         -1.096169        -0.827815   \n",
      "\n",
      "   num__BsmtFinSF1  num__GrLivArea  num__1stFlrSF  num__YearBuilt  \\\n",
      "0         0.865283       -0.292584       0.526873        0.455469   \n",
      "1        -1.416429        0.250597      -1.040595       -0.718609   \n",
      "2        -1.416429       -1.816242      -1.052445        1.988293   \n",
      "3         0.704206        0.609851      -0.394093        1.107734   \n",
      "4         0.384534        0.474436      -0.252776        1.531707   \n",
      "\n",
      "   num__YearRemodAdd  num__BedroomAbvGr  ...  num__BsmtUnfSF  num__GarageArea  \\\n",
      "0           1.346063          -0.288836  ...       -0.400282        -0.863837   \n",
      "1          -0.439214          -0.288836  ...        0.511920        -0.456264   \n",
      "2           1.683818           0.645680  ...        0.505196        -2.257169   \n",
      "3           1.683818          -0.288836  ...       -0.915776        -1.119755   \n",
      "4           1.683818          -0.288836  ...        0.532091        -0.797488   \n",
      "\n",
      "   num__GarageYrBlt  num__OverallCond  num__OverallQual  num__Age  \\\n",
      "0          0.192392          0.372217         -0.820445 -0.455469   \n",
      "1          0.272225          1.268609         -0.088934  0.718609   \n",
      "2         -4.147410          1.268609         -0.820445 -1.988293   \n",
      "3          0.152476          1.268609         -0.820445 -1.107734   \n",
      "4          0.119212          0.372217         -0.820445 -1.531707   \n",
      "\n",
      "   num__LivingLotRatio  num__FinishedBsmtRatio  num__OverallScore  \\\n",
      "0            -0.116096                0.887733          -0.437833   \n",
      "1             0.455054               -1.415946           0.858190   \n",
      "2            -1.409123               -1.415946           0.102176   \n",
      "3             0.918129                0.640194           0.102176   \n",
      "4             1.593562                0.340697          -0.437833   \n",
      "\n",
      "   cat__HasPorch_1  \n",
      "0              0.0  \n",
      "1              1.0  \n",
      "2              0.0  \n",
      "3              0.0  \n",
      "4              0.0  \n",
      "\n",
      "[5 rows x 21 columns]\n",
      "\n",
      "Preview of Testing Features Dataset:\n",
      "   num__LotFrontage  num__LotArea  num__OpenPorchSF  num__MasVnrArea  \\\n",
      "0          0.144140     -0.158460         -1.096169        -0.827815   \n",
      "1          1.204764      0.612540          0.517257         1.413568   \n",
      "2         -0.556568     -0.029579         -1.096169        -0.827815   \n",
      "3         -0.911425     -1.225280          0.389147        -0.827815   \n",
      "4          0.900684      0.717202         -1.096169         0.793095   \n",
      "\n",
      "   num__BsmtFinSF1  num__GrLivArea  num__1stFlrSF  num__YearBuilt  \\\n",
      "0         0.755219       -0.922794      -0.126358        0.227176   \n",
      "1         0.902910        1.808434       0.944129       -0.783836   \n",
      "2        -1.416429       -1.038836      -0.246639        1.401254   \n",
      "3         0.585846        0.425488      -0.321073        0.748988   \n",
      "4         0.899659        0.343995       1.186707       -1.207808   \n",
      "\n",
      "   num__YearRemodAdd  num__BedroomAbvGr  ...  num__BsmtUnfSF  num__GarageArea  \\\n",
      "0          -0.873470          -2.157869  ...       -0.391317        -1.006014   \n",
      "1          -0.487465          -2.157869  ...       -0.312872         1.117159   \n",
      "2           1.683818          -1.223352  ...        0.980347        -0.551048   \n",
      "3           1.683818          -2.157869  ...        0.077111        -0.266695   \n",
      "4          -1.114724          -1.223352  ...        0.061422         2.065003   \n",
      "\n",
      "   num__GarageYrBlt  num__OverallCond  num__OverallQual          Age  \\\n",
      "0          0.205698          2.165000         -0.088934  1986.358491   \n",
      "1          0.274443         -0.524174          1.374088  1986.358491   \n",
      "2          0.125865          0.372217         -0.820445  1986.358491   \n",
      "3          0.176869          1.268609         -0.088934  1986.358491   \n",
      "4          0.305489         -0.524174          2.105599  1986.358491   \n",
      "\n",
      "   LivingLotRatio  FinishedBsmtRatio  OverallScore  HasPorch  \n",
      "0        0.798551           0.515713     35.037736  0.566038  \n",
      "1        0.798551           0.515713     35.037736  0.566038  \n",
      "2        0.798551           0.515713     35.037736  0.566038  \n",
      "3        0.798551           0.515713     35.037736  0.566038  \n",
      "4        0.798551           0.515713     35.037736  0.566038  \n",
      "\n",
      "[5 rows x 21 columns]\n"
     ]
    }
   ],
   "source": [
    "# Separate features and target variable for training data\n",
    "y_train = train_data[\"LogSalePrice\"]\n",
    "x_train = train_data.drop(columns=[\"LogSalePrice\", \"SalePriceQuartile\"])\n",
    "\n",
    "# Separate features and target variable for testing data\n",
    "y_test = test_data[\"LogSalePrice\"]\n",
    "x_test = test_data.drop(columns=[\"LogSalePrice\"])\n",
    "\n",
    "# Display structure of separated datasets\n",
    "print(\"Training Features Dataset Info:\")\n",
    "print(x_train.info())\n",
    "print(\"\\nTraining Target Dataset Info:\")\n",
    "print(y_train.describe())\n",
    "\n",
    "print(\"\\nTesting Features Dataset Info:\")\n",
    "print(x_test.info())\n",
    "print(\"\\nTesting Target Dataset Info:\")\n",
    "print(y_test.describe())\n",
    "\n",
    "# Preview the separated datasets\n",
    "print(\"\\nPreview of Training Features Dataset:\")\n",
    "print(x_train.head())\n",
    "\n",
    "print(\"\\nPreview of Testing Features Dataset:\")\n",
    "print(x_test.head())"
   ]
  },
  {
   "cell_type": "markdown",
   "metadata": {},
   "source": [
    "---"
   ]
  },
  {
   "cell_type": "markdown",
   "metadata": {},
   "source": [
    "## Model Selection"
   ]
  },
  {
   "cell_type": "markdown",
   "metadata": {},
   "source": [
    "### Overview of Models\n",
    "\n",
    "In this section, we will:\n",
    "1. Provide an overview of the machine learning models to be evaluated.\n",
    "2. Justify the selection of each model based on its suitability for predicting house prices.\n",
    "3. Define the evaluation metrics to compare the models effectively.\n",
    "\n",
    "**Models Considered:**\n",
    "- **Linear Regression:** A baseline model to understand linear relationships between features and target.\n",
    "- **Ridge Regression:** Linear regression with regularization to handle multicollinearity.\n",
    "- **Lasso Regression:** Regularized regression that performs feature selection.\n",
    "- **Decision Tree Regressor:** A non-linear model that can capture complex patterns.\n",
    "- **Random Forest Regressor:** An ensemble method combining multiple decision trees to improve accuracy and reduce overfitting.\n",
    "- **Gradient Boosting Regressor (e.g., XGBoost):** An advanced ensemble method that builds trees sequentially to optimize performance.\n",
    "- **Support Vector Refression (SVR):** A robust model for capturing non-linear relationships.\n",
    "\n",
    "**Evaluation Metrics:**\n",
    "1. **R2 (Coefficient of Determination):** Measures how well the model explains variance in the data.\n",
    "2. **RMSE (Root Mean Squared Error):** Penalizes large prediction errors, providing insight into the model's accuracy.\n",
    "3. **MAE (Mean Absolute Error):** Measures average prediction error, focusing on interpretability.\n",
    "\n",
    "By evaluating these models using the defined metrics, we aim to identify the best-performing model for predicting house prices."
   ]
  },
  {
   "cell_type": "code",
   "execution_count": 11,
   "metadata": {},
   "outputs": [
    {
     "name": "stdout",
     "output_type": "stream",
     "text": [
      "Models Overview:\n",
      "Linear Regression: A simple baseline model to capture linear relationships.\n",
      "Ridge Regression: Handles multicollinearity and improves generalization using L2 regularization.\n",
      "Lasso Regression: Adds feature selection capabilities with L1 regularization.\n",
      "Decision Tree Regressor: Captures non-linear relationships and is easy to interpret.\n",
      "Random Forest Regressor: Reduces overfitting through ensemble learning.\n",
      "Gradient Boosting Regressor: Sequentially optimizes predictions for improved accuracy.\n",
      "Support Vector Regression: Effective for non-linear relationships with robust regularization.\n",
      "\n",
      "Evaluation Metrics:\n",
      "- R2 (Coefficient of Determination)\n",
      "- RMSE (Root Mean Squared Error)\n",
      "- MAE (Mean Absolute Error)\n"
     ]
    }
   ],
   "source": [
    "# List of models to be evaluated\n",
    "models = {\n",
    "    \"Linear Regression\": \"A simple baseline model to capture linear relationships.\",\n",
    "    \"Ridge Regression\": \"Handles multicollinearity and improves generalization using L2 regularization.\",\n",
    "    \"Lasso Regression\": \"Adds feature selection capabilities with L1 regularization.\",\n",
    "    \"Decision Tree Regressor\": \"Captures non-linear relationships and is easy to interpret.\",\n",
    "    \"Random Forest Regressor\": \"Reduces overfitting through ensemble learning.\",\n",
    "    \"Gradient Boosting Regressor\": \"Sequentially optimizes predictions for improved accuracy.\",\n",
    "    \"Support Vector Regression\": \"Effective for non-linear relationships with robust regularization.\"\n",
    "}\n",
    "\n",
    "# Print a summary of models\n",
    "print(\"Models Overview:\")\n",
    "for model_name, description in models.items():\n",
    "    print(f\"{model_name}: {description}\")\n",
    "\n",
    "# Evaluate metrics\n",
    "metrics = [\"R2 (Coefficient of Determination)\", \"RMSE (Root Mean Squared Error)\", \"MAE (Mean Absolute Error)\"]\n",
    "\n",
    "print(\"\\nEvaluation Metrics:\")\n",
    "for metric in metrics:\n",
    "    print(f\"- {metric}\")"
   ]
  },
  {
   "cell_type": "markdown",
   "metadata": {},
   "source": [
    "### Baseline Model\n",
    "\n",
    "**Objective:**\n",
    "- Establish a baseline performance using a simple regression model to benchmark subsequent models.\n",
    "- Evaluate the performance using R1, Mean Absolute Error (MAE), and Mean Squared Error (MSE).\n",
    "\n",
    "**Steps:**\n",
    "- Select a simple baseline model (e.g., Mean Predictor).\n",
    "- Fit the model on the training dataset.\n",
    "- Predict the target values for both training and testing datasets.\n",
    "- Calculate performance metrics for the baseline model.\n",
    "- Interpret the results and their implications for subsequent models."
   ]
  },
  {
   "cell_type": "code",
   "execution_count": 12,
   "metadata": {},
   "outputs": [
    {
     "name": "stdout",
     "output_type": "stream",
     "text": [
      "Baseline Model Metrics:\n",
      "    Dataset       R2       MAE       MSE\n",
      "0  Training  0.00000  0.303367  0.152442\n",
      "1   Testing -0.00584  0.337137  0.187703\n"
     ]
    },
    {
     "data": {
      "image/png": "[encoded data removed]",
      "text/plain": [
       "<Figure size 800x600 with 1 Axes>"
      ]
     },
     "metadata": {},
     "output_type": "display_data"
    }
   ],
   "source": [
    "import numpy as np\n",
    "from sklearn.metrics import mean_absolute_error, mean_squared_error, r2_score\n",
    "\n",
    "# Define the baseline model: Mean Predictor\n",
    "y_baseline_train = [y_train.mean()] * len(y_train)\n",
    "y_baseline_test = [y_train.mean()] * len(y_test)\n",
    "\n",
    "# Calculate performance metrics\n",
    "baseline_metrics = {\n",
    "    \"Dataset\": [\"Training\", \"Testing\"],\n",
    "    \"R2\": [\n",
    "        r2_score(y_train, y_baseline_train),\n",
    "        r2_score(y_test, y_baseline_test)\n",
    "    ],\n",
    "    \"MAE\": [\n",
    "        mean_absolute_error(y_train, y_baseline_train),\n",
    "        mean_absolute_error(y_test, y_baseline_test)\n",
    "    ],\n",
    "    \"MSE\": [\n",
    "        mean_squared_error(y_train, y_baseline_train),\n",
    "        mean_squared_error(y_test, y_baseline_test)\n",
    "    ]\n",
    "}\n",
    "\n",
    "# Convert to DataFrame for display\n",
    "baseline_metrics_df = pd.DataFrame(baseline_metrics)\n",
    "\n",
    "# Display metrics\n",
    "print(\"Baseline Model Metrics:\")\n",
    "print(baseline_metrics_df)\n",
    "\n",
    "# Plot baseline predictions vs true values (Testing)\n",
    "import matplotlib.pyplot as plt\n",
    "\n",
    "plt.figure(figsize=(8, 6))\n",
    "plt.scatter(y_test, y_baseline_test, alpha=0.6, label=\"Baseline Predictions\")\n",
    "plt.plot([min(y_test), max(y_test)], [min(y_test), max(y_test)], 'r--', label=\"Perfect Fit\")\n",
    "plt.title(\"Baseline Model: Predictions vs Actuals (Testing Data)\")\n",
    "plt.xlabel(\"Actual Log(SalePrice)\")\n",
    "plt.ylabel(\"Predicted Log(SalePrice)\")\n",
    "plt.legend()\n",
    "plt.grid(axis='both', linestyle='--', alpha=0.7)\n",
    "plt.show()"
   ]
  },
  {
   "cell_type": "markdown",
   "metadata": {},
   "source": [
    "#### Baseline Model Performance\n",
    "\n",
    "**Overview**\n",
    "\n",
    "The baseline model predicts the **mean log-transformed sale price** (`LogSalePrice`) for all observations. This simplistic approach serves as a benchmark to evaluate the performance of more sophisticated models.\n",
    "\n",
    "**Results**\n",
    "| **Dataset**   | **R2**        | **MAE**       | **MSE**       |\n",
    "|---------------|---------------|---------------|---------------|\n",
    "| Training      | 0.00000       | 0.303367      | 0.152442      |\n",
    "| Testing       | -0.00584      | 0.337137      | 0.187703      |\n",
    "\n",
    "- **R2 (Coefficient of Determination):**\n",
    "  - Training R2: 0.0, as expected, since the model predicts a constant value and does not explain any variability in the target.\n",
    "  - Testing R2: Slightly negative (-0.00584), indicating that the baseline model performs marginally worse than a random constant predictor.\n",
    "- **MAE (Mean Absolute Error):**\n",
    "  - Represents the average deviation of predictions from avtual values. This serves as a advanced models will suggest better accuracy.\n",
    "\n",
    "**Visualization Insights**\n",
    "- The scatterplot illustrates the baseline predictions as a horizontal line (y=12), representing the mean `LogSalePrice`.\n",
    "- Variability in the actual y values is evident along the X-axis.\n",
    "- Significant deviations from the diagonal line highlight the model's inability to capture the relationship between features and `LogSalePrice`.\n",
    "\n",
    "**Limitations of the Baseline Model**\n",
    "- Does not account for variability in features or capture any relationships within the data.\n",
    "- Primarily used to set a benchmark for comparing the performance of more sophisticated models.\n",
    "\n",
    "**Next Steps**\n",
    "1. Develop advanced models that can capture relationships between features and `LogSalePrice`.\n",
    "2. Evaluate these models against the baseline metrics to ensure meaningful improvement."
   ]
  },
  {
   "cell_type": "markdown",
   "metadata": {},
   "source": [
    "---"
   ]
  },
  {
   "cell_type": "markdown",
   "metadata": {},
   "source": [
    "## Model Training and Hyperparameter Tuning"
   ]
  },
  {
   "cell_type": "markdown",
   "metadata": {},
   "source": [
    "### Train Multiple Models"
   ]
  },
  {
   "cell_type": "markdown",
   "metadata": {},
   "source": [
    "### Hyperparameter Tuning"
   ]
  },
  {
   "cell_type": "markdown",
   "metadata": {},
   "source": [
    "---"
   ]
  },
  {
   "cell_type": "markdown",
   "metadata": {},
   "source": [
    "## Model Evaluation"
   ]
  },
  {
   "cell_type": "markdown",
   "metadata": {},
   "source": [
    "### Evaluation Metrics"
   ]
  },
  {
   "cell_type": "markdown",
   "metadata": {},
   "source": [
    "### Cross-Validation Results"
   ]
  },
  {
   "cell_type": "markdown",
   "metadata": {},
   "source": [
    "### Test Set Results"
   ]
  },
  {
   "cell_type": "markdown",
   "metadata": {},
   "source": [
    "### Residual Analysis"
   ]
  },
  {
   "cell_type": "markdown",
   "metadata": {},
   "source": [
    "### Error Analysis"
   ]
  },
  {
   "cell_type": "markdown",
   "metadata": {},
   "source": [
    "---"
   ]
  },
  {
   "cell_type": "markdown",
   "metadata": {},
   "source": [
    "## Feature Importance and Insights"
   ]
  },
  {
   "cell_type": "markdown",
   "metadata": {},
   "source": [
    "### Feature Importance"
   ]
  },
  {
   "cell_type": "markdown",
   "metadata": {},
   "source": [
    "### Key Takeaways"
   ]
  },
  {
   "cell_type": "markdown",
   "metadata": {},
   "source": [
    "---"
   ]
  },
  {
   "cell_type": "markdown",
   "metadata": {},
   "source": [
    "## Exploratory Model Analysis"
   ]
  },
  {
   "cell_type": "markdown",
   "metadata": {},
   "source": [
    "### Experimentation with Additional Models"
   ]
  },
  {
   "cell_type": "markdown",
   "metadata": {},
   "source": [
    "### Comparative Analysis"
   ]
  },
  {
   "cell_type": "markdown",
   "metadata": {},
   "source": [
    "### Model Interpretability"
   ]
  },
  {
   "cell_type": "markdown",
   "metadata": {},
   "source": [
    "---"
   ]
  },
  {
   "cell_type": "markdown",
   "metadata": {},
   "source": [
    "## Conclusion and Recommendations"
   ]
  },
  {
   "cell_type": "markdown",
   "metadata": {},
   "source": [
    "---"
   ]
  },
  {
   "cell_type": "markdown",
   "metadata": {},
   "source": [
    "## Save Outputs"
   ]
  },
  {
   "cell_type": "markdown",
   "metadata": {},
   "source": [
    "---"
   ]
  },
  {
   "cell_type": "markdown",
   "metadata": {},
   "source": [
    "## Future Improvements"
   ]
  }
 ],
 "metadata": {
  "accelerator": "GPU",
  "colab": {
   "name": "Data Practitioner Jupyter Notebook.ipynb",
   "provenance": [],
   "toc_visible": true
  },
  "kernelspec": {
   "display_name": "Python 3",
   "language": "python",
   "name": "python3"
  },
  "language_info": {
   "codemirror_mode": {
    "name": "ipython",
    "version": 3
   },
   "file_extension": ".py",
   "mimetype": "text/x-python",
   "name": "python",
   "nbconvert_exporter": "python",
   "pygments_lexer": "ipython3",
   "version": "3.8.18"
  },
  "orig_nbformat": 2
 },
 "nbformat": 4,
 "nbformat_minor": 2
}
